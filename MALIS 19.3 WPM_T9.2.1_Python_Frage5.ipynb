{
 "cells": [
  {
   "cell_type": "markdown",
   "metadata": {},
   "source": [
    "# MALIS 19.3 WPM_T9.2\n",
    "# Datenanalyse der offenen Daten der Seattle Public Library (Checkouts), Teil 2: Frage 5\n",
    "Mit fünf verschiedenen Fragen werden die Checkout-Daten analysiert und die Lösungen implementiert. Hierfür werden die Checkout-Daten der Public Library des Jahres 2019 importiert. Für Frage 1 bis 4 wurde die Datenmenge auf 10.000 Zeilen begrenzt (Teil 1).\n",
    "Für die 5. und letzte Frage soll ein längerer Zeitraum betrachtet werden, und zwar das 2. Halbjahr 2019 (Monate Juli bis Dezember). Durch Ausprobieren konnte ich ermitteln, dass für diesen Zeitraum 1.294.539 Zeilen benötigt werden. Dadurch sind die sechs Monate vergleichbar."
   ]
  },
  {
   "cell_type": "markdown",
   "metadata": {},
   "source": [
    "### Wie bin ich an die Zahl 1.294.539 für Juli bis Dezember 2019 gelangt?\n",
    "Da die Seattle Public Library über sehr hohe Checkouts verfügt, habe ich den Datensatz probeweise mit 1.500.000 Zeilen runtergeladen. Mit dem Befehl \"ausleihen.groupby('checkoutmonth')['checkouts'].count()\" konnte ich sehen, wie viele Checkouts noch von Juni 2019 enthalten waren. Die Zahl habe ich einfach von der Summe der Checkouts Juli bis Dezember abgezogen.\n",
    "\n",
    "Ich beschränke mich in Frage 5 auf das 2. Halbjahr, weil mein Computer bei noch mehr Datensätzen noch länger zum Laden und dem späteren, mehrfachen \"Restart & Run All\" benötigt hätte und auch ein Halbjahr bereits sehr aussagekräftig ist."
   ]
  },
  {
   "cell_type": "markdown",
   "metadata": {},
   "source": [
    "## 5. Frage: Wie ist die Entwicklung der Ausleihzahlen von Juli bis Dezember 2019?"
   ]
  },
  {
   "cell_type": "code",
   "execution_count": 1,
   "metadata": {},
   "outputs": [],
   "source": [
    "# Als Erstes alle benötigten Packages downloaden:\n",
    "import urllib.request\n",
    "import pandas as pd\n",
    "import matplotlib.pyplot as plt"
   ]
  },
  {
   "cell_type": "code",
   "execution_count": 2,
   "metadata": {},
   "outputs": [],
   "source": [
    "# Checkout-Daten downloaden:\n",
    "url = \"https://data.seattle.gov/resource/tmmm-ytt6.csv?$where=checkoutyear=2019&$limit=1294539\"\n",
    "spl_file = \"checkouts.csv\""
   ]
  },
  {
   "cell_type": "code",
   "execution_count": 3,
   "metadata": {},
   "outputs": [
    {
     "data": {
      "text/plain": [
       "('checkouts.csv', <http.client.HTTPMessage at 0x7f202a33edd0>)"
      ]
     },
     "execution_count": 3,
     "metadata": {},
     "output_type": "execute_result"
    }
   ],
   "source": [
    "urllib.request.urlretrieve(url, spl_file)"
   ]
  },
  {
   "cell_type": "markdown",
   "metadata": {},
   "source": [
    "### Bevor ich die Frage beantworte, möchte ich mir den Bestand von 6 Monaten etwas näher anschauen:"
   ]
  },
  {
   "cell_type": "code",
   "execution_count": 4,
   "metadata": {},
   "outputs": [],
   "source": [
    "# Variable erstellen:\n",
    "ausleihen = pd.read_csv(spl_file)"
   ]
  },
  {
   "cell_type": "code",
   "execution_count": 5,
   "metadata": {},
   "outputs": [
    {
     "data": {
      "text/html": [
       "<div>\n",
       "<style scoped>\n",
       "    .dataframe tbody tr th:only-of-type {\n",
       "        vertical-align: middle;\n",
       "    }\n",
       "\n",
       "    .dataframe tbody tr th {\n",
       "        vertical-align: top;\n",
       "    }\n",
       "\n",
       "    .dataframe thead th {\n",
       "        text-align: right;\n",
       "    }\n",
       "</style>\n",
       "<table border=\"1\" class=\"dataframe\">\n",
       "  <thead>\n",
       "    <tr style=\"text-align: right;\">\n",
       "      <th></th>\n",
       "      <th>usageclass</th>\n",
       "      <th>checkouttype</th>\n",
       "      <th>materialtype</th>\n",
       "      <th>checkoutyear</th>\n",
       "      <th>checkoutmonth</th>\n",
       "      <th>checkouts</th>\n",
       "      <th>title</th>\n",
       "      <th>creator</th>\n",
       "      <th>subjects</th>\n",
       "      <th>publisher</th>\n",
       "      <th>publicationyear</th>\n",
       "    </tr>\n",
       "  </thead>\n",
       "  <tbody>\n",
       "    <tr>\n",
       "      <th>0</th>\n",
       "      <td>Digital</td>\n",
       "      <td>OverDrive</td>\n",
       "      <td>AUDIOBOOK</td>\n",
       "      <td>2019</td>\n",
       "      <td>12</td>\n",
       "      <td>2</td>\n",
       "      <td>The Teenage Brain (Enchanced): A Neuroscientis...</td>\n",
       "      <td>Frances E. Jensen</td>\n",
       "      <td>Nonfiction, Psychology</td>\n",
       "      <td>HarperCollins Publishers Inc.</td>\n",
       "      <td>2015</td>\n",
       "    </tr>\n",
       "    <tr>\n",
       "      <th>1</th>\n",
       "      <td>Physical</td>\n",
       "      <td>Horizon</td>\n",
       "      <td>BOOK</td>\n",
       "      <td>2019</td>\n",
       "      <td>12</td>\n",
       "      <td>3</td>\n",
       "      <td>Richard Scarry's Smokey the fireman.</td>\n",
       "      <td>Scarry, Richard</td>\n",
       "      <td>Fire fighters Juvenile fiction, Animals Juveni...</td>\n",
       "      <td>Random House,</td>\n",
       "      <td>2015.</td>\n",
       "    </tr>\n",
       "    <tr>\n",
       "      <th>2</th>\n",
       "      <td>Physical</td>\n",
       "      <td>Horizon</td>\n",
       "      <td>BOOK</td>\n",
       "      <td>2019</td>\n",
       "      <td>12</td>\n",
       "      <td>1</td>\n",
       "      <td>Vernon Subutex : roman. Tome 1 / Virginie Desp...</td>\n",
       "      <td>Despentes, Virginie, 1969-</td>\n",
       "      <td>Music stores France Paris Fiction, Businessmen...</td>\n",
       "      <td>Grasset : Les Éditions Graset &amp; Fasquelle : Li...</td>\n",
       "      <td>janvier 2018.</td>\n",
       "    </tr>\n",
       "    <tr>\n",
       "      <th>3</th>\n",
       "      <td>Physical</td>\n",
       "      <td>Horizon</td>\n",
       "      <td>BOOK</td>\n",
       "      <td>2019</td>\n",
       "      <td>12</td>\n",
       "      <td>1</td>\n",
       "      <td>The lost Gospel of Mary : the Mother of Jesus ...</td>\n",
       "      <td>NaN</td>\n",
       "      <td>Mary Blessed Virgin Saint</td>\n",
       "      <td>Paraclete Press,</td>\n",
       "      <td>[2007]</td>\n",
       "    </tr>\n",
       "    <tr>\n",
       "      <th>4</th>\n",
       "      <td>Digital</td>\n",
       "      <td>OverDrive</td>\n",
       "      <td>EBOOK</td>\n",
       "      <td>2019</td>\n",
       "      <td>12</td>\n",
       "      <td>2</td>\n",
       "      <td>Be Mine Forever: Bennetts Series, Book 3</td>\n",
       "      <td>Kennedy Ryan</td>\n",
       "      <td>Fiction, Literature, Romance</td>\n",
       "      <td>Hachette Digital, Inc.</td>\n",
       "      <td>2015</td>\n",
       "    </tr>\n",
       "    <tr>\n",
       "      <th>...</th>\n",
       "      <td>...</td>\n",
       "      <td>...</td>\n",
       "      <td>...</td>\n",
       "      <td>...</td>\n",
       "      <td>...</td>\n",
       "      <td>...</td>\n",
       "      <td>...</td>\n",
       "      <td>...</td>\n",
       "      <td>...</td>\n",
       "      <td>...</td>\n",
       "      <td>...</td>\n",
       "    </tr>\n",
       "    <tr>\n",
       "      <th>1294534</th>\n",
       "      <td>Digital</td>\n",
       "      <td>OverDrive</td>\n",
       "      <td>EBOOK</td>\n",
       "      <td>2019</td>\n",
       "      <td>7</td>\n",
       "      <td>2</td>\n",
       "      <td>Who Was Genghis Khan?</td>\n",
       "      <td>Nico Medina</td>\n",
       "      <td>Biography &amp; Autobiography, History, Juvenile N...</td>\n",
       "      <td>Penguin Group (USA), Inc.</td>\n",
       "      <td>2014</td>\n",
       "    </tr>\n",
       "    <tr>\n",
       "      <th>1294535</th>\n",
       "      <td>Digital</td>\n",
       "      <td>OverDrive</td>\n",
       "      <td>EBOOK</td>\n",
       "      <td>2019</td>\n",
       "      <td>7</td>\n",
       "      <td>4</td>\n",
       "      <td>William Wenton and the Lost City</td>\n",
       "      <td>Bobbie Peers</td>\n",
       "      <td>Fantasy, Humor (Fiction), Juvenile Fiction, My...</td>\n",
       "      <td>Simon &amp; Schuster, Inc.</td>\n",
       "      <td>2019</td>\n",
       "    </tr>\n",
       "    <tr>\n",
       "      <th>1294536</th>\n",
       "      <td>Physical</td>\n",
       "      <td>Horizon</td>\n",
       "      <td>BOOK</td>\n",
       "      <td>2019</td>\n",
       "      <td>7</td>\n",
       "      <td>1</td>\n",
       "      <td>Behind the sulfa drugs; a shory history of che...</td>\n",
       "      <td>Galdston, Iago, 1895-</td>\n",
       "      <td>Chemotherapy</td>\n",
       "      <td>Appleton,</td>\n",
       "      <td>1943.</td>\n",
       "    </tr>\n",
       "    <tr>\n",
       "      <th>1294537</th>\n",
       "      <td>Physical</td>\n",
       "      <td>Horizon</td>\n",
       "      <td>BOOK</td>\n",
       "      <td>2019</td>\n",
       "      <td>7</td>\n",
       "      <td>2</td>\n",
       "      <td>Designer crochet : 32 patterns to elevate your...</td>\n",
       "      <td>Mullett-Bowlsby, Shannon</td>\n",
       "      <td>Crocheting Patterns</td>\n",
       "      <td>Lark,</td>\n",
       "      <td>2015.</td>\n",
       "    </tr>\n",
       "    <tr>\n",
       "      <th>1294538</th>\n",
       "      <td>Digital</td>\n",
       "      <td>OverDrive</td>\n",
       "      <td>AUDIOBOOK</td>\n",
       "      <td>2019</td>\n",
       "      <td>7</td>\n",
       "      <td>1</td>\n",
       "      <td>Jacinto's Remnant: Gears of War Series, Book 2...</td>\n",
       "      <td>Karen Traviss</td>\n",
       "      <td>Fiction, Science Fiction &amp; Fantasy</td>\n",
       "      <td>Tantor Media, Inc</td>\n",
       "      <td>2012</td>\n",
       "    </tr>\n",
       "  </tbody>\n",
       "</table>\n",
       "<p>1294539 rows × 11 columns</p>\n",
       "</div>"
      ],
      "text/plain": [
       "        usageclass checkouttype materialtype  checkoutyear  checkoutmonth  \\\n",
       "0          Digital    OverDrive    AUDIOBOOK          2019             12   \n",
       "1         Physical      Horizon         BOOK          2019             12   \n",
       "2         Physical      Horizon         BOOK          2019             12   \n",
       "3         Physical      Horizon         BOOK          2019             12   \n",
       "4          Digital    OverDrive        EBOOK          2019             12   \n",
       "...            ...          ...          ...           ...            ...   \n",
       "1294534    Digital    OverDrive        EBOOK          2019              7   \n",
       "1294535    Digital    OverDrive        EBOOK          2019              7   \n",
       "1294536   Physical      Horizon         BOOK          2019              7   \n",
       "1294537   Physical      Horizon         BOOK          2019              7   \n",
       "1294538    Digital    OverDrive    AUDIOBOOK          2019              7   \n",
       "\n",
       "         checkouts                                              title  \\\n",
       "0                2  The Teenage Brain (Enchanced): A Neuroscientis...   \n",
       "1                3               Richard Scarry's Smokey the fireman.   \n",
       "2                1  Vernon Subutex : roman. Tome 1 / Virginie Desp...   \n",
       "3                1  The lost Gospel of Mary : the Mother of Jesus ...   \n",
       "4                2           Be Mine Forever: Bennetts Series, Book 3   \n",
       "...            ...                                                ...   \n",
       "1294534          2                              Who Was Genghis Khan?   \n",
       "1294535          4                   William Wenton and the Lost City   \n",
       "1294536          1  Behind the sulfa drugs; a shory history of che...   \n",
       "1294537          2  Designer crochet : 32 patterns to elevate your...   \n",
       "1294538          1  Jacinto's Remnant: Gears of War Series, Book 2...   \n",
       "\n",
       "                            creator  \\\n",
       "0                 Frances E. Jensen   \n",
       "1                   Scarry, Richard   \n",
       "2        Despentes, Virginie, 1969-   \n",
       "3                               NaN   \n",
       "4                      Kennedy Ryan   \n",
       "...                             ...   \n",
       "1294534                 Nico Medina   \n",
       "1294535                Bobbie Peers   \n",
       "1294536       Galdston, Iago, 1895-   \n",
       "1294537    Mullett-Bowlsby, Shannon   \n",
       "1294538               Karen Traviss   \n",
       "\n",
       "                                                  subjects  \\\n",
       "0                                   Nonfiction, Psychology   \n",
       "1        Fire fighters Juvenile fiction, Animals Juveni...   \n",
       "2        Music stores France Paris Fiction, Businessmen...   \n",
       "3                                Mary Blessed Virgin Saint   \n",
       "4                             Fiction, Literature, Romance   \n",
       "...                                                    ...   \n",
       "1294534  Biography & Autobiography, History, Juvenile N...   \n",
       "1294535  Fantasy, Humor (Fiction), Juvenile Fiction, My...   \n",
       "1294536                                       Chemotherapy   \n",
       "1294537                                Crocheting Patterns   \n",
       "1294538                 Fiction, Science Fiction & Fantasy   \n",
       "\n",
       "                                                 publisher publicationyear  \n",
       "0                            HarperCollins Publishers Inc.            2015  \n",
       "1                                            Random House,           2015.  \n",
       "2        Grasset : Les Éditions Graset & Fasquelle : Li...   janvier 2018.  \n",
       "3                                         Paraclete Press,          [2007]  \n",
       "4                                   Hachette Digital, Inc.            2015  \n",
       "...                                                    ...             ...  \n",
       "1294534                          Penguin Group (USA), Inc.            2014  \n",
       "1294535                             Simon & Schuster, Inc.            2019  \n",
       "1294536                                          Appleton,           1943.  \n",
       "1294537                                              Lark,           2015.  \n",
       "1294538                                  Tantor Media, Inc            2012  \n",
       "\n",
       "[1294539 rows x 11 columns]"
      ]
     },
     "execution_count": 5,
     "metadata": {},
     "output_type": "execute_result"
    }
   ],
   "source": [
    "# Die ersten 5 (Dezember) und die letzten 5 (Juli) Datensätze des 2. Halbjahres 2019 anzeigen: \n",
    "ausleihen"
   ]
  },
  {
   "cell_type": "code",
   "execution_count": 6,
   "metadata": {},
   "outputs": [
    {
     "data": {
      "text/plain": [
       "1684"
      ]
     },
     "execution_count": 6,
     "metadata": {},
     "output_type": "execute_result"
    }
   ],
   "source": [
    "# Wie lautet die Zahl der höchsten Ausleihe im 2. Halbjahr 2019? (Im Vergleich mit Frage 1: im Dezember 560)\n",
    "ausleihen.checkouts.max()"
   ]
  },
  {
   "cell_type": "code",
   "execution_count": 7,
   "metadata": {},
   "outputs": [
    {
     "data": {
      "text/html": [
       "<div>\n",
       "<style scoped>\n",
       "    .dataframe tbody tr th:only-of-type {\n",
       "        vertical-align: middle;\n",
       "    }\n",
       "\n",
       "    .dataframe tbody tr th {\n",
       "        vertical-align: top;\n",
       "    }\n",
       "\n",
       "    .dataframe thead th {\n",
       "        text-align: right;\n",
       "    }\n",
       "</style>\n",
       "<table border=\"1\" class=\"dataframe\">\n",
       "  <thead>\n",
       "    <tr style=\"text-align: right;\">\n",
       "      <th></th>\n",
       "      <th>usageclass</th>\n",
       "      <th>checkouttype</th>\n",
       "      <th>materialtype</th>\n",
       "      <th>checkoutyear</th>\n",
       "      <th>checkoutmonth</th>\n",
       "      <th>checkouts</th>\n",
       "      <th>title</th>\n",
       "      <th>creator</th>\n",
       "      <th>subjects</th>\n",
       "      <th>publisher</th>\n",
       "      <th>publicationyear</th>\n",
       "    </tr>\n",
       "  </thead>\n",
       "  <tbody>\n",
       "    <tr>\n",
       "      <th>512327</th>\n",
       "      <td>Physical</td>\n",
       "      <td>Horizon</td>\n",
       "      <td>MIXED</td>\n",
       "      <td>2019</td>\n",
       "      <td>10</td>\n",
       "      <td>1684</td>\n",
       "      <td>FlexTech--Laptops.</td>\n",
       "      <td>NaN</td>\n",
       "      <td>Laptop computers, iPad Computer, Tablet computers</td>\n",
       "      <td>Lenovo,</td>\n",
       "      <td>[2013-].</td>\n",
       "    </tr>\n",
       "  </tbody>\n",
       "</table>\n",
       "</div>"
      ],
      "text/plain": [
       "       usageclass checkouttype materialtype  checkoutyear  checkoutmonth  \\\n",
       "512327   Physical      Horizon        MIXED          2019             10   \n",
       "\n",
       "        checkouts               title creator  \\\n",
       "512327       1684  FlexTech--Laptops.     NaN   \n",
       "\n",
       "                                                 subjects publisher  \\\n",
       "512327  Laptop computers, iPad Computer, Tablet computers   Lenovo,   \n",
       "\n",
       "       publicationyear  \n",
       "512327        [2013-].  "
      ]
     },
     "execution_count": 7,
     "metadata": {},
     "output_type": "execute_result"
    }
   ],
   "source": [
    "# Welches Medium hatte 1.684 Ausleihen im 2. Halbjahr 2019?\n",
    "checkmax = ausleihen.checkouts.max()\n",
    "ausleihen[ausleihen.checkouts >= checkmax]"
   ]
  },
  {
   "cell_type": "markdown",
   "metadata": {},
   "source": [
    "### Überraschendes Ergebnis: Kein Medium wurde am meisten ausgeliehen, sondern ein Laptop!"
   ]
  },
  {
   "cell_type": "code",
   "execution_count": 8,
   "metadata": {},
   "outputs": [
    {
     "data": {
      "text/plain": [
       "checkoutmonth\n",
       "7     224092\n",
       "8     222068\n",
       "9     213783\n",
       "10    214673\n",
       "11    211946\n",
       "12    207977\n",
       "Name: checkouts, dtype: int64"
      ]
     },
     "execution_count": 8,
     "metadata": {},
     "output_type": "execute_result"
    }
   ],
   "source": [
    "# Entwicklung Anzahl Ausleihen von Juli bis Dezember 2019 mit \"groupby\":\n",
    "ausleihen.groupby('checkoutmonth')['checkouts'].count()"
   ]
  },
  {
   "cell_type": "code",
   "execution_count": 11,
   "metadata": {},
   "outputs": [
    {
     "data": {
      "image/png": "[encoded data removed]",
      "text/plain": [
       "<Figure size 432x288 with 1 Axes>"
      ]
     },
     "metadata": {
      "needs_background": "light"
     },
     "output_type": "display_data"
    }
   ],
   "source": [
    "# Die Entwicklung der Ausleihzahlen übersichlich als Liniendiagramm plotten:\n",
    "ausleihen.groupby('checkoutmonth')['checkouts'].count().plot()\n",
    "plt.title('Anzahl der Ausleihen von Juli bis Dezember 2019')\n",
    "plt.show()"
   ]
  },
  {
   "cell_type": "markdown",
   "metadata": {},
   "source": [
    "## Antwort auf die 5. Frage: Die Ausleihzahlen verringern sich von 224.092 Ausleihen im Juli auf 207.977 Ausleihen im Dezember 2019. Die Differenz der Ausleihen beträgt 16115 Checkouts."
   ]
  }
 ],
 "metadata": {
  "kernelspec": {
   "display_name": "Python 3",
   "language": "python",
   "name": "python3"
  },
  "language_info": {
   "codemirror_mode": {
    "name": "ipython",
    "version": 3
   },
   "file_extension": ".py",
   "mimetype": "text/x-python",
   "name": "python",
   "nbconvert_exporter": "python",
   "pygments_lexer": "ipython3",
   "version": "3.7.6"
  }
 },
 "nbformat": 4,
 "nbformat_minor": 4
}
