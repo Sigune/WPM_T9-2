{
 "cells": [
  {
   "cell_type": "markdown",
   "metadata": {},
   "source": [
    "# MALIS 19.3 WPM_T9.2\n",
    "## Datenanalyse der offenen Daten der Seattle Public Library (Checkouts)\n",
    "Mit fünf verschiedenen Fragen werden die Checkout-Daten analysiert und die Lösungen implementiert. Hierfür werden die Checkout-Daten der Public Library des Jahres 2019 importiert. Die Datenmenge wird auf 10.000 Zeilen begrenzt."
   ]
  },
  {
   "cell_type": "markdown",
   "metadata": {},
   "source": [
    "### Erster Schritt: Packages importieren\n",
    "Vor dem Download der Checkout-Daten werden zwei hilfeiche Packages importiert: urllib.request und pandas."
   ]
  },
  {
   "cell_type": "code",
   "execution_count": 1,
   "metadata": {},
   "outputs": [],
   "source": [
    "import urllib.request\n",
    "import pandas as pd"
   ]
  },
  {
   "cell_type": "markdown",
   "metadata": {},
   "source": [
    "### Zweiter Schritt: Checkout-Daten downloaden"
   ]
  },
  {
   "cell_type": "code",
   "execution_count": 8,
   "metadata": {},
   "outputs": [],
   "source": [
    "url = \"https://data.seattle.gov/resource/tmmm-ytt6.csv?$where=checkoutyear=2019&$limit=10000\"\n",
    "spl_file = \"checkouts.csv\""
   ]
  },
  {
   "cell_type": "code",
   "execution_count": 9,
   "metadata": {},
   "outputs": [
    {
     "data": {
      "text/plain": [
       "'checkouts.csv'"
      ]
     },
     "execution_count": 9,
     "metadata": {},
     "output_type": "execute_result"
    }
   ],
   "source": [
    "# Überprüfen\n",
    "spl_file"
   ]
  },
  {
   "cell_type": "code",
   "execution_count": 5,
   "metadata": {},
   "outputs": [
    {
     "data": {
      "text/plain": [
       "'https://data.seattle.gov/resource/tmmm-ytt6.csv?$where=checkoutyear=2019&$limit=10000'"
      ]
     },
     "execution_count": 5,
     "metadata": {},
     "output_type": "execute_result"
    }
   ],
   "source": [
    "# Überprüfen\n",
    "url"
   ]
  },
  {
   "cell_type": "code",
   "execution_count": 10,
   "metadata": {},
   "outputs": [
    {
     "data": {
      "text/plain": [
       "('checkouts.csv', <http.client.HTTPMessage at 0x7f5269342650>)"
      ]
     },
     "execution_count": 10,
     "metadata": {},
     "output_type": "execute_result"
    }
   ],
   "source": [
    "urllib.request.urlretrieve(url, spl_file)"
   ]
  },
  {
   "cell_type": "code",
   "execution_count": 12,
   "metadata": {},
   "outputs": [],
   "source": [
    "checkouts = pd.read_csv(spl_file)"
   ]
  },
  {
   "cell_type": "code",
   "execution_count": 13,
   "metadata": {},
   "outputs": [
    {
     "data": {
      "text/html": [
       "<div>\n",
       "<style scoped>\n",
       "    .dataframe tbody tr th:only-of-type {\n",
       "        vertical-align: middle;\n",
       "    }\n",
       "\n",
       "    .dataframe tbody tr th {\n",
       "        vertical-align: top;\n",
       "    }\n",
       "\n",
       "    .dataframe thead th {\n",
       "        text-align: right;\n",
       "    }\n",
       "</style>\n",
       "<table border=\"1\" class=\"dataframe\">\n",
       "  <thead>\n",
       "    <tr style=\"text-align: right;\">\n",
       "      <th></th>\n",
       "      <th>usageclass</th>\n",
       "      <th>checkouttype</th>\n",
       "      <th>materialtype</th>\n",
       "      <th>checkoutyear</th>\n",
       "      <th>checkoutmonth</th>\n",
       "      <th>checkouts</th>\n",
       "      <th>title</th>\n",
       "      <th>creator</th>\n",
       "      <th>subjects</th>\n",
       "      <th>publisher</th>\n",
       "      <th>publicationyear</th>\n",
       "    </tr>\n",
       "  </thead>\n",
       "  <tbody>\n",
       "    <tr>\n",
       "      <th>0</th>\n",
       "      <td>Digital</td>\n",
       "      <td>OverDrive</td>\n",
       "      <td>AUDIOBOOK</td>\n",
       "      <td>2019</td>\n",
       "      <td>12</td>\n",
       "      <td>2</td>\n",
       "      <td>The Teenage Brain (Enchanced): A Neuroscientis...</td>\n",
       "      <td>Frances E. Jensen</td>\n",
       "      <td>Nonfiction, Psychology</td>\n",
       "      <td>HarperCollins Publishers Inc.</td>\n",
       "      <td>2015</td>\n",
       "    </tr>\n",
       "    <tr>\n",
       "      <th>1</th>\n",
       "      <td>Physical</td>\n",
       "      <td>Horizon</td>\n",
       "      <td>BOOK</td>\n",
       "      <td>2019</td>\n",
       "      <td>12</td>\n",
       "      <td>3</td>\n",
       "      <td>Richard Scarry's Smokey the fireman.</td>\n",
       "      <td>Scarry, Richard</td>\n",
       "      <td>Fire fighters Juvenile fiction, Animals Juveni...</td>\n",
       "      <td>Random House,</td>\n",
       "      <td>2015.</td>\n",
       "    </tr>\n",
       "    <tr>\n",
       "      <th>2</th>\n",
       "      <td>Physical</td>\n",
       "      <td>Horizon</td>\n",
       "      <td>BOOK</td>\n",
       "      <td>2019</td>\n",
       "      <td>12</td>\n",
       "      <td>1</td>\n",
       "      <td>Vernon Subutex : roman. Tome 1 / Virginie Desp...</td>\n",
       "      <td>Despentes, Virginie, 1969-</td>\n",
       "      <td>Music stores France Paris Fiction, Businessmen...</td>\n",
       "      <td>Grasset : Les Éditions Graset &amp; Fasquelle : Li...</td>\n",
       "      <td>janvier 2018.</td>\n",
       "    </tr>\n",
       "    <tr>\n",
       "      <th>3</th>\n",
       "      <td>Physical</td>\n",
       "      <td>Horizon</td>\n",
       "      <td>BOOK</td>\n",
       "      <td>2019</td>\n",
       "      <td>12</td>\n",
       "      <td>1</td>\n",
       "      <td>The lost Gospel of Mary : the Mother of Jesus ...</td>\n",
       "      <td>NaN</td>\n",
       "      <td>Mary Blessed Virgin Saint</td>\n",
       "      <td>Paraclete Press,</td>\n",
       "      <td>[2007]</td>\n",
       "    </tr>\n",
       "    <tr>\n",
       "      <th>4</th>\n",
       "      <td>Digital</td>\n",
       "      <td>OverDrive</td>\n",
       "      <td>EBOOK</td>\n",
       "      <td>2019</td>\n",
       "      <td>12</td>\n",
       "      <td>2</td>\n",
       "      <td>Be Mine Forever: Bennetts Series, Book 3</td>\n",
       "      <td>Kennedy Ryan</td>\n",
       "      <td>Fiction, Literature, Romance</td>\n",
       "      <td>Hachette Digital, Inc.</td>\n",
       "      <td>2015</td>\n",
       "    </tr>\n",
       "    <tr>\n",
       "      <th>...</th>\n",
       "      <td>...</td>\n",
       "      <td>...</td>\n",
       "      <td>...</td>\n",
       "      <td>...</td>\n",
       "      <td>...</td>\n",
       "      <td>...</td>\n",
       "      <td>...</td>\n",
       "      <td>...</td>\n",
       "      <td>...</td>\n",
       "      <td>...</td>\n",
       "      <td>...</td>\n",
       "    </tr>\n",
       "    <tr>\n",
       "      <th>9995</th>\n",
       "      <td>Physical</td>\n",
       "      <td>Horizon</td>\n",
       "      <td>BOOK</td>\n",
       "      <td>2019</td>\n",
       "      <td>12</td>\n",
       "      <td>1</td>\n",
       "      <td>Artemisia Gentileschi : the image of the femal...</td>\n",
       "      <td>Garrard, Mary D.</td>\n",
       "      <td>Gentileschi Artemisia 1593 1652 or 1653 Critic...</td>\n",
       "      <td>Princeton University Press,</td>\n",
       "      <td>[1989]</td>\n",
       "    </tr>\n",
       "    <tr>\n",
       "      <th>9996</th>\n",
       "      <td>Digital</td>\n",
       "      <td>OverDrive</td>\n",
       "      <td>EBOOK</td>\n",
       "      <td>2019</td>\n",
       "      <td>12</td>\n",
       "      <td>1</td>\n",
       "      <td>Birth of an Empire: Genghis Series, Book 1</td>\n",
       "      <td>Conn Iggulden</td>\n",
       "      <td>Fiction, Historical Fiction</td>\n",
       "      <td>Random House, Inc.</td>\n",
       "      <td>2010</td>\n",
       "    </tr>\n",
       "    <tr>\n",
       "      <th>9997</th>\n",
       "      <td>Digital</td>\n",
       "      <td>OverDrive</td>\n",
       "      <td>EBOOK</td>\n",
       "      <td>2019</td>\n",
       "      <td>12</td>\n",
       "      <td>1</td>\n",
       "      <td>An Affair Without End: Willowmere Series, Book 3</td>\n",
       "      <td>Candace Camp</td>\n",
       "      <td>Fiction, Historical Fiction, Romance</td>\n",
       "      <td>Simon &amp; Schuster, Inc.</td>\n",
       "      <td>2014</td>\n",
       "    </tr>\n",
       "    <tr>\n",
       "      <th>9998</th>\n",
       "      <td>Physical</td>\n",
       "      <td>Horizon</td>\n",
       "      <td>BOOK</td>\n",
       "      <td>2019</td>\n",
       "      <td>12</td>\n",
       "      <td>1</td>\n",
       "      <td>The vine basket / Josanne La Valley.</td>\n",
       "      <td>La Valley, Josanne</td>\n",
       "      <td>Basket making Juvenile fiction, Fathers and da...</td>\n",
       "      <td>Clarion Books, Houghton Mifflin Harcourt,</td>\n",
       "      <td>[2013]</td>\n",
       "    </tr>\n",
       "    <tr>\n",
       "      <th>9999</th>\n",
       "      <td>Physical</td>\n",
       "      <td>Horizon</td>\n",
       "      <td>VIDEODISC</td>\n",
       "      <td>2019</td>\n",
       "      <td>12</td>\n",
       "      <td>1</td>\n",
       "      <td>Gleason / Amazon Studios ; in association with...</td>\n",
       "      <td>NaN</td>\n",
       "      <td>Gleason Steve 1977, Football players Biography...</td>\n",
       "      <td>Sony Pictures Home Entertainment,</td>\n",
       "      <td>c2016.</td>\n",
       "    </tr>\n",
       "  </tbody>\n",
       "</table>\n",
       "<p>10000 rows × 11 columns</p>\n",
       "</div>"
      ],
      "text/plain": [
       "     usageclass checkouttype materialtype  checkoutyear  checkoutmonth  \\\n",
       "0       Digital    OverDrive    AUDIOBOOK          2019             12   \n",
       "1      Physical      Horizon         BOOK          2019             12   \n",
       "2      Physical      Horizon         BOOK          2019             12   \n",
       "3      Physical      Horizon         BOOK          2019             12   \n",
       "4       Digital    OverDrive        EBOOK          2019             12   \n",
       "...         ...          ...          ...           ...            ...   \n",
       "9995   Physical      Horizon         BOOK          2019             12   \n",
       "9996    Digital    OverDrive        EBOOK          2019             12   \n",
       "9997    Digital    OverDrive        EBOOK          2019             12   \n",
       "9998   Physical      Horizon         BOOK          2019             12   \n",
       "9999   Physical      Horizon    VIDEODISC          2019             12   \n",
       "\n",
       "      checkouts                                              title  \\\n",
       "0             2  The Teenage Brain (Enchanced): A Neuroscientis...   \n",
       "1             3               Richard Scarry's Smokey the fireman.   \n",
       "2             1  Vernon Subutex : roman. Tome 1 / Virginie Desp...   \n",
       "3             1  The lost Gospel of Mary : the Mother of Jesus ...   \n",
       "4             2           Be Mine Forever: Bennetts Series, Book 3   \n",
       "...         ...                                                ...   \n",
       "9995          1  Artemisia Gentileschi : the image of the femal...   \n",
       "9996          1         Birth of an Empire: Genghis Series, Book 1   \n",
       "9997          1   An Affair Without End: Willowmere Series, Book 3   \n",
       "9998          1               The vine basket / Josanne La Valley.   \n",
       "9999          1  Gleason / Amazon Studios ; in association with...   \n",
       "\n",
       "                         creator  \\\n",
       "0              Frances E. Jensen   \n",
       "1                Scarry, Richard   \n",
       "2     Despentes, Virginie, 1969-   \n",
       "3                            NaN   \n",
       "4                   Kennedy Ryan   \n",
       "...                          ...   \n",
       "9995            Garrard, Mary D.   \n",
       "9996               Conn Iggulden   \n",
       "9997                Candace Camp   \n",
       "9998          La Valley, Josanne   \n",
       "9999                         NaN   \n",
       "\n",
       "                                               subjects  \\\n",
       "0                                Nonfiction, Psychology   \n",
       "1     Fire fighters Juvenile fiction, Animals Juveni...   \n",
       "2     Music stores France Paris Fiction, Businessmen...   \n",
       "3                             Mary Blessed Virgin Saint   \n",
       "4                          Fiction, Literature, Romance   \n",
       "...                                                 ...   \n",
       "9995  Gentileschi Artemisia 1593 1652 or 1653 Critic...   \n",
       "9996                        Fiction, Historical Fiction   \n",
       "9997               Fiction, Historical Fiction, Romance   \n",
       "9998  Basket making Juvenile fiction, Fathers and da...   \n",
       "9999  Gleason Steve 1977, Football players Biography...   \n",
       "\n",
       "                                              publisher publicationyear  \n",
       "0                         HarperCollins Publishers Inc.            2015  \n",
       "1                                         Random House,           2015.  \n",
       "2     Grasset : Les Éditions Graset & Fasquelle : Li...   janvier 2018.  \n",
       "3                                      Paraclete Press,          [2007]  \n",
       "4                                Hachette Digital, Inc.            2015  \n",
       "...                                                 ...             ...  \n",
       "9995                        Princeton University Press,          [1989]  \n",
       "9996                                 Random House, Inc.            2010  \n",
       "9997                             Simon & Schuster, Inc.            2014  \n",
       "9998          Clarion Books, Houghton Mifflin Harcourt,          [2013]  \n",
       "9999                  Sony Pictures Home Entertainment,          c2016.  \n",
       "\n",
       "[10000 rows x 11 columns]"
      ]
     },
     "execution_count": 13,
     "metadata": {},
     "output_type": "execute_result"
    }
   ],
   "source": [
    "checkouts"
   ]
  },
  {
   "cell_type": "code",
   "execution_count": 16,
   "metadata": {},
   "outputs": [],
   "source": [
    "# 1. Überraschung: ich hatte die Ausleihdaten aller 12 Monate erwartet!\n",
    "# Grund: liegt es eventuell an der Begrenzung der Zeilen auf 10.000?\n",
    "# Ich kann meine fünf Fragen aber auch gut für die Ausleihdaten von Dezember 2019 stellen."
   ]
  },
  {
   "cell_type": "markdown",
   "metadata": {},
   "source": [
    "### 1. Frage: Welches Medium wurde im Dezember 2019 am häufigsten ausgeliehen?"
   ]
  },
  {
   "cell_type": "code",
   "execution_count": 19,
   "metadata": {},
   "outputs": [
    {
     "data": {
      "text/plain": [
       "Index(['usageclass', 'checkouttype', 'materialtype', 'checkoutyear',\n",
       "       'checkoutmonth', 'checkouts', 'title', 'creator', 'subjects',\n",
       "       'publisher', 'publicationyear'],\n",
       "      dtype='object')"
      ]
     },
     "execution_count": 19,
     "metadata": {},
     "output_type": "execute_result"
    }
   ],
   "source": [
    "# Zur besseren Übersicht die Namen der Spalten auflisten:\n",
    "checkouts.columns"
   ]
  },
  {
   "cell_type": "code",
   "execution_count": 31,
   "metadata": {},
   "outputs": [
    {
     "data": {
      "text/plain": [
       "560"
      ]
     },
     "execution_count": 31,
     "metadata": {},
     "output_type": "execute_result"
    }
   ],
   "source": [
    "# Erst einmal: Wie lautet die Zahl der höchsten Ausleihe?\n",
    "checkouts.checkouts.max()"
   ]
  },
  {
   "cell_type": "code",
   "execution_count": 41,
   "metadata": {},
   "outputs": [
    {
     "data": {
      "text/plain": [
       "1"
      ]
     },
     "execution_count": 41,
     "metadata": {},
     "output_type": "execute_result"
    }
   ],
   "source": [
    "# 560 Ausleihen - davon kann die \"kleine\" Stadtbücherei Münster nur träumen!!\n",
    "# Wie hoch war die geringste Ausleihe?\n",
    "checkouts.checkouts.min()"
   ]
  },
  {
   "cell_type": "code",
   "execution_count": 42,
   "metadata": {},
   "outputs": [
    {
     "data": {
      "text/plain": [
       "3.652"
      ]
     },
     "execution_count": 42,
     "metadata": {},
     "output_type": "execute_result"
    }
   ],
   "source": [
    "# Und die durchschnittliche Ausleihe:\n",
    "checkouts.checkouts.mean()"
   ]
  },
  {
   "cell_type": "code",
   "execution_count": 55,
   "metadata": {},
   "outputs": [],
   "source": [
    "# Zurück zur eigentlichen Frage: Welches Medium hatte 560 Ausleihen? Gesucht wird die Zeile:\n",
    "checkmax = checkouts.checkouts.max()"
   ]
  },
  {
   "cell_type": "code",
   "execution_count": 56,
   "metadata": {},
   "outputs": [
    {
     "data": {
      "text/plain": [
       "560"
      ]
     },
     "execution_count": 56,
     "metadata": {},
     "output_type": "execute_result"
    }
   ],
   "source": [
    "checkmax"
   ]
  },
  {
   "cell_type": "code",
   "execution_count": 58,
   "metadata": {},
   "outputs": [
    {
     "data": {
      "text/html": [
       "<div>\n",
       "<style scoped>\n",
       "    .dataframe tbody tr th:only-of-type {\n",
       "        vertical-align: middle;\n",
       "    }\n",
       "\n",
       "    .dataframe tbody tr th {\n",
       "        vertical-align: top;\n",
       "    }\n",
       "\n",
       "    .dataframe thead th {\n",
       "        text-align: right;\n",
       "    }\n",
       "</style>\n",
       "<table border=\"1\" class=\"dataframe\">\n",
       "  <thead>\n",
       "    <tr style=\"text-align: right;\">\n",
       "      <th></th>\n",
       "      <th>usageclass</th>\n",
       "      <th>checkouttype</th>\n",
       "      <th>materialtype</th>\n",
       "      <th>checkoutyear</th>\n",
       "      <th>checkoutmonth</th>\n",
       "      <th>checkouts</th>\n",
       "      <th>title</th>\n",
       "      <th>creator</th>\n",
       "      <th>subjects</th>\n",
       "      <th>publisher</th>\n",
       "      <th>publicationyear</th>\n",
       "    </tr>\n",
       "  </thead>\n",
       "  <tbody>\n",
       "    <tr>\n",
       "      <th>7134</th>\n",
       "      <td>Physical</td>\n",
       "      <td>Horizon</td>\n",
       "      <td>BOOK</td>\n",
       "      <td>2019</td>\n",
       "      <td>12</td>\n",
       "      <td>560</td>\n",
       "      <td>The testaments / Margaret Atwood.</td>\n",
       "      <td>Atwood, Margaret, 1939-</td>\n",
       "      <td>Surrogate mothers Fiction, Man woman relations...</td>\n",
       "      <td>Nan A. Talese/Doubleday,</td>\n",
       "      <td>2019</td>\n",
       "    </tr>\n",
       "  </tbody>\n",
       "</table>\n",
       "</div>"
      ],
      "text/plain": [
       "     usageclass checkouttype materialtype  checkoutyear  checkoutmonth  \\\n",
       "7134   Physical      Horizon         BOOK          2019             12   \n",
       "\n",
       "      checkouts                              title                  creator  \\\n",
       "7134        560  The testaments / Margaret Atwood.  Atwood, Margaret, 1939-   \n",
       "\n",
       "                                               subjects  \\\n",
       "7134  Surrogate mothers Fiction, Man woman relations...   \n",
       "\n",
       "                     publisher  publicationyear  \n",
       "7134  Nan A. Talese/Doubleday,             2019  "
      ]
     },
     "execution_count": 58,
     "metadata": {},
     "output_type": "execute_result"
    }
   ],
   "source": [
    "# Anzeigen der Zeile und somit des Mediums mit der höchsten Anzahl an Ausleihen\n",
    "checkouts[checkouts.checkouts >= checkmax]"
   ]
  },
  {
   "cell_type": "code",
   "execution_count": 59,
   "metadata": {},
   "outputs": [],
   "source": [
    "# Antwort der 1. Frage: Das analoge Buch \"The testaments\" von Margaret Atwood wurde am häufigsten ausgeliehen."
   ]
  },
  {
   "cell_type": "markdown",
   "metadata": {},
   "source": [
    "### 2. Frage:"
   ]
  },
  {
   "cell_type": "code",
   "execution_count": null,
   "metadata": {},
   "outputs": [],
   "source": []
  },
  {
   "cell_type": "code",
   "execution_count": null,
   "metadata": {},
   "outputs": [],
   "source": []
  },
  {
   "cell_type": "code",
   "execution_count": 54,
   "metadata": {},
   "outputs": [
    {
     "data": {
      "text/plain": [
       "<matplotlib.axes._subplots.AxesSubplot at 0x7f52586dff50>"
      ]
     },
     "execution_count": 54,
     "metadata": {},
     "output_type": "execute_result"
    },
    {
     "data": {
      "image/png": "[encoded data removed]",
      "text/plain": [
       "<Figure size 432x288 with 1 Axes>"
      ]
     },
     "metadata": {
      "needs_background": "light"
     },
     "output_type": "display_data"
    }
   ],
   "source": [
    "checkouts[\"checkouts\"].hist()"
   ]
  },
  {
   "cell_type": "markdown",
   "metadata": {},
   "source": [
    "### spätere Frage: Wie viele Ausleihen hatte die Public Library im Dezember 2019?"
   ]
  },
  {
   "cell_type": "markdown",
   "metadata": {},
   "source": [
    "### spätere Frage: In ÖBs spielt die Aktualität der Medien eine große Rolle: Welche und wie viele der im Dezember 2019 ausgeliehenen Medien wurden auch im selben Jahr publiziert?"
   ]
  },
  {
   "cell_type": "code",
   "execution_count": 27,
   "metadata": {},
   "outputs": [],
   "source": [
    "checkouts[\"publicationyear\"] = 2019\n",
    "# Hat nicht funktioniert, weil diese Spalte keine Nummern, sondern Text enthält!!\n",
    "# s. https://dev.socrata.com/foundry/data.seattle.gov/tmmm-ytt6"
   ]
  },
  {
   "cell_type": "code",
   "execution_count": null,
   "metadata": {},
   "outputs": [],
   "source": []
  }
 ],
 "metadata": {
  "kernelspec": {
   "display_name": "Python 3",
   "language": "python",
   "name": "python3"
  },
  "language_info": {
   "codemirror_mode": {
    "name": "ipython",
    "version": 3
   },
   "file_extension": ".py",
   "mimetype": "text/x-python",
   "name": "python",
   "nbconvert_exporter": "python",
   "pygments_lexer": "ipython3",
   "version": "3.7.6"
  }
 },
 "nbformat": 4,
 "nbformat_minor": 4
}
