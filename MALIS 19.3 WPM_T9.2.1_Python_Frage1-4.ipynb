{
 "cells": [
  {
   "cell_type": "code",
   "execution_count": null,
   "metadata": {},
   "outputs": [],
   "source": []
  },
  {
   "cell_type": "markdown",
   "metadata": {},
   "source": [
    "# MALIS 19.3 WPM_T9.2\n",
    "# Datenanalyse der offenen Daten der Seattle Public Library (Checkouts)\n",
    "Mit fünf verschiedenen Fragen werden die Checkout-Daten analysiert und die Lösungen implementiert. Hierfür werden die Checkout-Daten der Public Library des Jahres 2019 importiert. Die Datenmenge wird auf 10.000 Zeilen begrenzt."
   ]
  },
  {
   "cell_type": "markdown",
   "metadata": {},
   "source": [
    "### Erster Schritt: Packages importieren\n",
    "Vor dem Download der Checkout-Daten werden zwei hilfeiche Packages importiert: urllib.request und pandas."
   ]
  },
  {
   "cell_type": "code",
   "execution_count": 39,
   "metadata": {},
   "outputs": [],
   "source": [
    "import urllib.request\n",
    "import pandas as pd\n",
    "import matplotlib.pyplot as plt"
   ]
  },
  {
   "cell_type": "markdown",
   "metadata": {},
   "source": [
    "### Zweiter Schritt: Checkout-Daten downloaden"
   ]
  },
  {
   "cell_type": "code",
   "execution_count": 2,
   "metadata": {},
   "outputs": [],
   "source": [
    "url = \"https://data.seattle.gov/resource/tmmm-ytt6.csv?$where=checkoutyear=2019&$limit=10000\"\n",
    "spl_file = \"checkouts.csv\""
   ]
  },
  {
   "cell_type": "code",
   "execution_count": 3,
   "metadata": {},
   "outputs": [
    {
     "data": {
      "text/plain": [
       "'checkouts.csv'"
      ]
     },
     "execution_count": 3,
     "metadata": {},
     "output_type": "execute_result"
    }
   ],
   "source": [
    "# Überprüfen\n",
    "spl_file"
   ]
  },
  {
   "cell_type": "code",
   "execution_count": 4,
   "metadata": {},
   "outputs": [
    {
     "data": {
      "text/plain": [
       "'https://data.seattle.gov/resource/tmmm-ytt6.csv?$where=checkoutyear=2019&$limit=10000'"
      ]
     },
     "execution_count": 4,
     "metadata": {},
     "output_type": "execute_result"
    }
   ],
   "source": [
    "# Überprüfen\n",
    "url"
   ]
  },
  {
   "cell_type": "code",
   "execution_count": 5,
   "metadata": {},
   "outputs": [
    {
     "data": {
      "text/plain": [
       "('checkouts.csv', <http.client.HTTPMessage at 0x7f23cfdb6050>)"
      ]
     },
     "execution_count": 5,
     "metadata": {},
     "output_type": "execute_result"
    }
   ],
   "source": [
    "urllib.request.urlretrieve(url, spl_file)"
   ]
  },
  {
   "cell_type": "code",
   "execution_count": 6,
   "metadata": {},
   "outputs": [],
   "source": [
    "# Neue Variable erstellen:\n",
    "ausleihen = pd.read_csv(spl_file)"
   ]
  },
  {
   "cell_type": "code",
   "execution_count": 7,
   "metadata": {},
   "outputs": [
    {
     "data": {
      "text/html": [
       "<div>\n",
       "<style scoped>\n",
       "    .dataframe tbody tr th:only-of-type {\n",
       "        vertical-align: middle;\n",
       "    }\n",
       "\n",
       "    .dataframe tbody tr th {\n",
       "        vertical-align: top;\n",
       "    }\n",
       "\n",
       "    .dataframe thead th {\n",
       "        text-align: right;\n",
       "    }\n",
       "</style>\n",
       "<table border=\"1\" class=\"dataframe\">\n",
       "  <thead>\n",
       "    <tr style=\"text-align: right;\">\n",
       "      <th></th>\n",
       "      <th>usageclass</th>\n",
       "      <th>checkouttype</th>\n",
       "      <th>materialtype</th>\n",
       "      <th>checkoutyear</th>\n",
       "      <th>checkoutmonth</th>\n",
       "      <th>checkouts</th>\n",
       "      <th>title</th>\n",
       "      <th>creator</th>\n",
       "      <th>subjects</th>\n",
       "      <th>publisher</th>\n",
       "      <th>publicationyear</th>\n",
       "    </tr>\n",
       "  </thead>\n",
       "  <tbody>\n",
       "    <tr>\n",
       "      <th>0</th>\n",
       "      <td>Digital</td>\n",
       "      <td>OverDrive</td>\n",
       "      <td>AUDIOBOOK</td>\n",
       "      <td>2019</td>\n",
       "      <td>12</td>\n",
       "      <td>2</td>\n",
       "      <td>The Teenage Brain (Enchanced): A Neuroscientis...</td>\n",
       "      <td>Frances E. Jensen</td>\n",
       "      <td>Nonfiction, Psychology</td>\n",
       "      <td>HarperCollins Publishers Inc.</td>\n",
       "      <td>2015</td>\n",
       "    </tr>\n",
       "    <tr>\n",
       "      <th>1</th>\n",
       "      <td>Physical</td>\n",
       "      <td>Horizon</td>\n",
       "      <td>BOOK</td>\n",
       "      <td>2019</td>\n",
       "      <td>12</td>\n",
       "      <td>3</td>\n",
       "      <td>Richard Scarry's Smokey the fireman.</td>\n",
       "      <td>Scarry, Richard</td>\n",
       "      <td>Fire fighters Juvenile fiction, Animals Juveni...</td>\n",
       "      <td>Random House,</td>\n",
       "      <td>2015.</td>\n",
       "    </tr>\n",
       "    <tr>\n",
       "      <th>2</th>\n",
       "      <td>Physical</td>\n",
       "      <td>Horizon</td>\n",
       "      <td>BOOK</td>\n",
       "      <td>2019</td>\n",
       "      <td>12</td>\n",
       "      <td>1</td>\n",
       "      <td>Vernon Subutex : roman. Tome 1 / Virginie Desp...</td>\n",
       "      <td>Despentes, Virginie, 1969-</td>\n",
       "      <td>Music stores France Paris Fiction, Businessmen...</td>\n",
       "      <td>Grasset : Les Éditions Graset &amp; Fasquelle : Li...</td>\n",
       "      <td>janvier 2018.</td>\n",
       "    </tr>\n",
       "    <tr>\n",
       "      <th>3</th>\n",
       "      <td>Physical</td>\n",
       "      <td>Horizon</td>\n",
       "      <td>BOOK</td>\n",
       "      <td>2019</td>\n",
       "      <td>12</td>\n",
       "      <td>1</td>\n",
       "      <td>The lost Gospel of Mary : the Mother of Jesus ...</td>\n",
       "      <td>NaN</td>\n",
       "      <td>Mary Blessed Virgin Saint</td>\n",
       "      <td>Paraclete Press,</td>\n",
       "      <td>[2007]</td>\n",
       "    </tr>\n",
       "    <tr>\n",
       "      <th>4</th>\n",
       "      <td>Digital</td>\n",
       "      <td>OverDrive</td>\n",
       "      <td>EBOOK</td>\n",
       "      <td>2019</td>\n",
       "      <td>12</td>\n",
       "      <td>2</td>\n",
       "      <td>Be Mine Forever: Bennetts Series, Book 3</td>\n",
       "      <td>Kennedy Ryan</td>\n",
       "      <td>Fiction, Literature, Romance</td>\n",
       "      <td>Hachette Digital, Inc.</td>\n",
       "      <td>2015</td>\n",
       "    </tr>\n",
       "    <tr>\n",
       "      <th>...</th>\n",
       "      <td>...</td>\n",
       "      <td>...</td>\n",
       "      <td>...</td>\n",
       "      <td>...</td>\n",
       "      <td>...</td>\n",
       "      <td>...</td>\n",
       "      <td>...</td>\n",
       "      <td>...</td>\n",
       "      <td>...</td>\n",
       "      <td>...</td>\n",
       "      <td>...</td>\n",
       "    </tr>\n",
       "    <tr>\n",
       "      <th>9995</th>\n",
       "      <td>Physical</td>\n",
       "      <td>Horizon</td>\n",
       "      <td>BOOK</td>\n",
       "      <td>2019</td>\n",
       "      <td>12</td>\n",
       "      <td>2</td>\n",
       "      <td>A history of the gypsies of Eastern Europe and...</td>\n",
       "      <td>Crowe, David</td>\n",
       "      <td>Romanies Russia Federation History, Romanies R...</td>\n",
       "      <td>Palgrave Macmilan/St. Martin's Griffin,</td>\n",
       "      <td>2007.</td>\n",
       "    </tr>\n",
       "    <tr>\n",
       "      <th>9996</th>\n",
       "      <td>Digital</td>\n",
       "      <td>OverDrive</td>\n",
       "      <td>EBOOK</td>\n",
       "      <td>2019</td>\n",
       "      <td>12</td>\n",
       "      <td>1</td>\n",
       "      <td>The Apostle: Scot Harvath Series, Book 8</td>\n",
       "      <td>Brad Thor</td>\n",
       "      <td>Fiction, Thriller</td>\n",
       "      <td>Simon &amp; Schuster, Inc.</td>\n",
       "      <td>2014</td>\n",
       "    </tr>\n",
       "    <tr>\n",
       "      <th>9997</th>\n",
       "      <td>Physical</td>\n",
       "      <td>Horizon</td>\n",
       "      <td>BOOK</td>\n",
       "      <td>2019</td>\n",
       "      <td>12</td>\n",
       "      <td>1</td>\n",
       "      <td>Bats in the band / written and illustrated by ...</td>\n",
       "      <td>Lies, Brian</td>\n",
       "      <td>Bats Juvenile fiction, Music Juvenile fiction,...</td>\n",
       "      <td>Houghton Mifflin Harcourt,</td>\n",
       "      <td>[2014]</td>\n",
       "    </tr>\n",
       "    <tr>\n",
       "      <th>9998</th>\n",
       "      <td>Physical</td>\n",
       "      <td>Horizon</td>\n",
       "      <td>BOOK</td>\n",
       "      <td>2019</td>\n",
       "      <td>12</td>\n",
       "      <td>1</td>\n",
       "      <td>Silver girl : a novel / Elin Hilderbrand.</td>\n",
       "      <td>Hilderbrand, Elin</td>\n",
       "      <td>Female friendship Fiction, Women Massachusetts...</td>\n",
       "      <td>Little, Brown and Co.,</td>\n",
       "      <td>2011.</td>\n",
       "    </tr>\n",
       "    <tr>\n",
       "      <th>9999</th>\n",
       "      <td>Digital</td>\n",
       "      <td>OverDrive</td>\n",
       "      <td>EBOOK</td>\n",
       "      <td>2019</td>\n",
       "      <td>12</td>\n",
       "      <td>8</td>\n",
       "      <td>Hope Never Dies: Obama Biden Mystery Series, B...</td>\n",
       "      <td>Andrew Shaffer</td>\n",
       "      <td>Fiction, Mystery, Thriller</td>\n",
       "      <td>Random House, Inc.</td>\n",
       "      <td>2018</td>\n",
       "    </tr>\n",
       "  </tbody>\n",
       "</table>\n",
       "<p>10000 rows × 11 columns</p>\n",
       "</div>"
      ],
      "text/plain": [
       "     usageclass checkouttype materialtype  checkoutyear  checkoutmonth  \\\n",
       "0       Digital    OverDrive    AUDIOBOOK          2019             12   \n",
       "1      Physical      Horizon         BOOK          2019             12   \n",
       "2      Physical      Horizon         BOOK          2019             12   \n",
       "3      Physical      Horizon         BOOK          2019             12   \n",
       "4       Digital    OverDrive        EBOOK          2019             12   \n",
       "...         ...          ...          ...           ...            ...   \n",
       "9995   Physical      Horizon         BOOK          2019             12   \n",
       "9996    Digital    OverDrive        EBOOK          2019             12   \n",
       "9997   Physical      Horizon         BOOK          2019             12   \n",
       "9998   Physical      Horizon         BOOK          2019             12   \n",
       "9999    Digital    OverDrive        EBOOK          2019             12   \n",
       "\n",
       "      checkouts                                              title  \\\n",
       "0             2  The Teenage Brain (Enchanced): A Neuroscientis...   \n",
       "1             3               Richard Scarry's Smokey the fireman.   \n",
       "2             1  Vernon Subutex : roman. Tome 1 / Virginie Desp...   \n",
       "3             1  The lost Gospel of Mary : the Mother of Jesus ...   \n",
       "4             2           Be Mine Forever: Bennetts Series, Book 3   \n",
       "...         ...                                                ...   \n",
       "9995          2  A history of the gypsies of Eastern Europe and...   \n",
       "9996          1           The Apostle: Scot Harvath Series, Book 8   \n",
       "9997          1  Bats in the band / written and illustrated by ...   \n",
       "9998          1          Silver girl : a novel / Elin Hilderbrand.   \n",
       "9999          8  Hope Never Dies: Obama Biden Mystery Series, B...   \n",
       "\n",
       "                         creator  \\\n",
       "0              Frances E. Jensen   \n",
       "1                Scarry, Richard   \n",
       "2     Despentes, Virginie, 1969-   \n",
       "3                            NaN   \n",
       "4                   Kennedy Ryan   \n",
       "...                          ...   \n",
       "9995                Crowe, David   \n",
       "9996                   Brad Thor   \n",
       "9997                 Lies, Brian   \n",
       "9998           Hilderbrand, Elin   \n",
       "9999              Andrew Shaffer   \n",
       "\n",
       "                                               subjects  \\\n",
       "0                                Nonfiction, Psychology   \n",
       "1     Fire fighters Juvenile fiction, Animals Juveni...   \n",
       "2     Music stores France Paris Fiction, Businessmen...   \n",
       "3                             Mary Blessed Virgin Saint   \n",
       "4                          Fiction, Literature, Romance   \n",
       "...                                                 ...   \n",
       "9995  Romanies Russia Federation History, Romanies R...   \n",
       "9996                                  Fiction, Thriller   \n",
       "9997  Bats Juvenile fiction, Music Juvenile fiction,...   \n",
       "9998  Female friendship Fiction, Women Massachusetts...   \n",
       "9999                         Fiction, Mystery, Thriller   \n",
       "\n",
       "                                              publisher publicationyear  \n",
       "0                         HarperCollins Publishers Inc.            2015  \n",
       "1                                         Random House,           2015.  \n",
       "2     Grasset : Les Éditions Graset & Fasquelle : Li...   janvier 2018.  \n",
       "3                                      Paraclete Press,          [2007]  \n",
       "4                                Hachette Digital, Inc.            2015  \n",
       "...                                                 ...             ...  \n",
       "9995            Palgrave Macmilan/St. Martin's Griffin,           2007.  \n",
       "9996                             Simon & Schuster, Inc.            2014  \n",
       "9997                         Houghton Mifflin Harcourt,          [2014]  \n",
       "9998                             Little, Brown and Co.,           2011.  \n",
       "9999                                 Random House, Inc.            2018  \n",
       "\n",
       "[10000 rows x 11 columns]"
      ]
     },
     "execution_count": 7,
     "metadata": {},
     "output_type": "execute_result"
    }
   ],
   "source": [
    "ausleihen"
   ]
  },
  {
   "cell_type": "markdown",
   "metadata": {},
   "source": [
    "### Überraschung: ich hatte die Ausleihdaten aller 12 Monate erwartet!\n",
    "Grund: Es liegt vermutlich an der Begrenzung der Zeilen auf 10.000. Es ergeben sich aber direkt Fragen zu den Ausleihdaten von Dezember 2019. Zu beachten ist jedoch im Folgenden, dass der Dezember durchaus mehr Datensätze als 10.000 enthalten kann, die Ergebnisse aber vermutlich repräsentativ für den Monat sind."
   ]
  },
  {
   "cell_type": "markdown",
   "metadata": {},
   "source": [
    "## 1. Frage: Welches Medium wurde im Dezember 2019 am häufigsten ausgeliehen?"
   ]
  },
  {
   "cell_type": "code",
   "execution_count": 28,
   "metadata": {},
   "outputs": [
    {
     "data": {
      "text/plain": [
       "usageclass         object\n",
       "checkouttype       object\n",
       "materialtype       object\n",
       "checkoutyear        int64\n",
       "checkoutmonth       int64\n",
       "checkouts           int64\n",
       "title              object\n",
       "creator            object\n",
       "subjects           object\n",
       "publisher          object\n",
       "publicationyear    object\n",
       "dtype: object"
      ]
     },
     "execution_count": 28,
     "metadata": {},
     "output_type": "execute_result"
    }
   ],
   "source": [
    "# Bevor ich beginne: welche Datentypen enthält der Datensatz?\n",
    "ausleihen.dtypes"
   ]
  },
  {
   "cell_type": "code",
   "execution_count": 29,
   "metadata": {},
   "outputs": [
    {
     "data": {
      "text/plain": [
       "560"
      ]
     },
     "execution_count": 29,
     "metadata": {},
     "output_type": "execute_result"
    }
   ],
   "source": [
    "# Wie lautet die Zahl der höchsten Ausleihe? Spalte: checkouts, Datentyp: integer\n",
    "ausleihen.checkouts.max()"
   ]
  },
  {
   "cell_type": "code",
   "execution_count": 11,
   "metadata": {},
   "outputs": [],
   "source": [
    "# Nun wird es spannend: Welches Medium hatte 560 Ausleihen? Gesucht wird die Zeile:\n",
    "checkmax = ausleihen.checkouts.max()"
   ]
  },
  {
   "cell_type": "code",
   "execution_count": 12,
   "metadata": {},
   "outputs": [
    {
     "data": {
      "text/plain": [
       "560"
      ]
     },
     "execution_count": 12,
     "metadata": {},
     "output_type": "execute_result"
    }
   ],
   "source": [
    "# Zum Überprüfen:\n",
    "checkmax"
   ]
  },
  {
   "cell_type": "code",
   "execution_count": 13,
   "metadata": {},
   "outputs": [
    {
     "data": {
      "text/html": [
       "<div>\n",
       "<style scoped>\n",
       "    .dataframe tbody tr th:only-of-type {\n",
       "        vertical-align: middle;\n",
       "    }\n",
       "\n",
       "    .dataframe tbody tr th {\n",
       "        vertical-align: top;\n",
       "    }\n",
       "\n",
       "    .dataframe thead th {\n",
       "        text-align: right;\n",
       "    }\n",
       "</style>\n",
       "<table border=\"1\" class=\"dataframe\">\n",
       "  <thead>\n",
       "    <tr style=\"text-align: right;\">\n",
       "      <th></th>\n",
       "      <th>usageclass</th>\n",
       "      <th>checkouttype</th>\n",
       "      <th>materialtype</th>\n",
       "      <th>checkoutyear</th>\n",
       "      <th>checkoutmonth</th>\n",
       "      <th>checkouts</th>\n",
       "      <th>title</th>\n",
       "      <th>creator</th>\n",
       "      <th>subjects</th>\n",
       "      <th>publisher</th>\n",
       "      <th>publicationyear</th>\n",
       "    </tr>\n",
       "  </thead>\n",
       "  <tbody>\n",
       "    <tr>\n",
       "      <th>7536</th>\n",
       "      <td>Physical</td>\n",
       "      <td>Horizon</td>\n",
       "      <td>BOOK</td>\n",
       "      <td>2019</td>\n",
       "      <td>12</td>\n",
       "      <td>560</td>\n",
       "      <td>The testaments / Margaret Atwood.</td>\n",
       "      <td>Atwood, Margaret, 1939-</td>\n",
       "      <td>Surrogate mothers Fiction, Man woman relations...</td>\n",
       "      <td>Nan A. Talese/Doubleday,</td>\n",
       "      <td>[2019]</td>\n",
       "    </tr>\n",
       "  </tbody>\n",
       "</table>\n",
       "</div>"
      ],
      "text/plain": [
       "     usageclass checkouttype materialtype  checkoutyear  checkoutmonth  \\\n",
       "7536   Physical      Horizon         BOOK          2019             12   \n",
       "\n",
       "      checkouts                              title                  creator  \\\n",
       "7536        560  The testaments / Margaret Atwood.  Atwood, Margaret, 1939-   \n",
       "\n",
       "                                               subjects  \\\n",
       "7536  Surrogate mothers Fiction, Man woman relations...   \n",
       "\n",
       "                     publisher publicationyear  \n",
       "7536  Nan A. Talese/Doubleday,          [2019]  "
      ]
     },
     "execution_count": 13,
     "metadata": {},
     "output_type": "execute_result"
    }
   ],
   "source": [
    "# Anzeigen der Zeile und somit des Mediums mit der höchsten Anzahl an Ausleihen\n",
    "ausleihen[ausleihen.checkouts >= checkmax]"
   ]
  },
  {
   "cell_type": "markdown",
   "metadata": {},
   "source": [
    "### Antwort auf die 1. Frage: Das analoge Buch \"The testaments\" von Margaret Atwood wurde am häufigsten ausgeliehen."
   ]
  },
  {
   "cell_type": "markdown",
   "metadata": {},
   "source": [
    "## 2. Frage: Wie hoch ist die durchschnittliche Ausleihe der Public Library im Dezember 2019?\n",
    "Der im Dezember am häufigsten ausgeliehene Titel hat mit 560 Checkouts eine erstaunlich hohe Zahl. Es stellt sich die Frage, ob alle Medien der Stadtbibliothek in diesem Monat hohe Ausleihen hatten oder ob der Bestseller-Titel von Margaret Atwood ein sog. Ausreißer ist."
   ]
  },
  {
   "cell_type": "code",
   "execution_count": 14,
   "metadata": {},
   "outputs": [
    {
     "data": {
      "text/plain": [
       "3.65"
      ]
     },
     "execution_count": 14,
     "metadata": {},
     "output_type": "execute_result"
    }
   ],
   "source": [
    "# Wie hoch war die durchschnittliche Ausleihe?\n",
    "ausleihen.checkouts.mean()"
   ]
  },
  {
   "cell_type": "markdown",
   "metadata": {},
   "source": [
    "### Antwort auf die 2. Frage: Die Zahl der durchschnittlichen Ausleihe betrug im Dezember 3,652."
   ]
  },
  {
   "cell_type": "code",
   "execution_count": 15,
   "metadata": {},
   "outputs": [
    {
     "data": {
      "text/plain": [
       "1"
      ]
     },
     "execution_count": 15,
     "metadata": {},
     "output_type": "execute_result"
    }
   ],
   "source": [
    "# Und wie hoch war denn die geringste Ausleihe?\n",
    "ausleihen.checkouts.min()"
   ]
  },
  {
   "cell_type": "code",
   "execution_count": 16,
   "metadata": {},
   "outputs": [
    {
     "data": {
      "text/plain": [
       "2.0"
      ]
     },
     "execution_count": 16,
     "metadata": {},
     "output_type": "execute_result"
    }
   ],
   "source": [
    "# Der Median wird nun wahrscheinlich zeigen, dass der Maximalwert 560 ein absoluter Ausreißer ist:\n",
    "ausleihen.checkouts.median()"
   ]
  },
  {
   "cell_type": "code",
   "execution_count": 30,
   "metadata": {},
   "outputs": [
    {
     "data": {
      "text/plain": [
       "<matplotlib.axes._subplots.AxesSubplot at 0x7f23cd277610>"
      ]
     },
     "execution_count": 30,
     "metadata": {},
     "output_type": "execute_result"
    },
    {
     "data": {
      "image/png": "[encoded data removed]",
      "text/plain": [
       "<Figure size 432x288 with 1 Axes>"
      ]
     },
     "metadata": {
      "needs_background": "light"
     },
     "output_type": "display_data"
    }
   ],
   "source": [
    "# Anzeigen aller Ausleihzahlen mit einem Historgramm (.hist):\n",
    "ausleihen[\"checkouts\"].hist()\n",
    "# Warum zeigt das Histogramm nur einen Balken an??"
   ]
  },
  {
   "cell_type": "code",
   "execution_count": 18,
   "metadata": {
    "scrolled": true
   },
   "outputs": [
    {
     "data": {
      "text/plain": [
       "<matplotlib.axes._subplots.AxesSubplot at 0x7f23cd466790>"
      ]
     },
     "execution_count": 18,
     "metadata": {},
     "output_type": "execute_result"
    },
    {
     "data": {
      "image/png": "[encoded data removed]",
      "text/plain": [
       "<Figure size 432x288 with 1 Axes>"
      ]
     },
     "metadata": {
      "needs_background": "light"
     },
     "output_type": "display_data"
    }
   ],
   "source": [
    "# Mit feinerer Auflösung plotten:\n",
    "ausleihen[\"checkouts\"].hist(bins=100)\n",
    "# Doch richtig gemacht! Nun erkenne ich auch die schmale Linie rechts neben dem Balken im 1. Histogramm."
   ]
  },
  {
   "cell_type": "code",
   "execution_count": 46,
   "metadata": {},
   "outputs": [
    {
     "data": {
      "image/png": "[encoded data removed]",
      "text/plain": [
       "<Figure size 432x288 with 1 Axes>"
      ]
     },
     "metadata": {
      "needs_background": "light"
     },
     "output_type": "display_data"
    }
   ],
   "source": [
    "# Jetzt füge ich noch einen Titel zu und möchte nur die Grafik ausgeben:\n",
    "ausleihen[\"checkouts\"].hist(bins=100)\n",
    "plt.title('Anzahl der Ausleihen im Dezember 2019')\n",
    "plt.show()"
   ]
  },
  {
   "cell_type": "markdown",
   "metadata": {},
   "source": [
    "### Fazit aus Frage 1 + 2:\n",
    "Die durchschnittlichen Ausleihzahlen von Dezember 2019 entsprechen mit 3 - 4 Ausleihen (Mittelwert) bzw. 2 Ausleihen (Medien) pro Ttiel den üblichen Zahlen einer öffentlichen Bibliothek. Es wäre interessant nachzuforschen, wieso der Buchtitel \"The testaments\" von Atwood eine so hohe Ausleihzahl hatte oder ob es sich um einen Eingabefehler handelt."
   ]
  },
  {
   "cell_type": "markdown",
   "metadata": {},
   "source": [
    "## 3. Frage: Von welchem creator wurden im Dezember 2019 die meisten Medientitel ausgeliehen?\n",
    "Gesucht wird der beliebteste creator, also der Schöpfer bzw. die Schöpferin von Werken (Bücher, Filme usw.), von dem am meisten Titel ausgeliehen wurden. Es wird nicht nach dem creator mit den meisten Ausleihen gefragt!"
   ]
  },
  {
   "cell_type": "code",
   "execution_count": 19,
   "metadata": {},
   "outputs": [
    {
     "data": {
      "text/plain": [
       "Patterson, James, 1947-    20\n",
       "James Patterson            17\n",
       "M. C. Beaton               12\n",
       "Nora Roberts               12\n",
       "Agatha Christie            10\n",
       "                           ..\n",
       "Benn, James R.              1\n",
       "Meredith, Leda              1\n",
       "O'Brien, Dan, 1947-         1\n",
       "Stibbe, Nina                1\n",
       "Douglas J. Lisle, Ph.D.     1\n",
       "Name: creator, Length: 7352, dtype: int64"
      ]
     },
     "execution_count": 19,
     "metadata": {},
     "output_type": "execute_result"
    }
   ],
   "source": [
    "# Zunächst lasse ich mir die ersten und die letzten creator anzeigen:\n",
    "ausleihen.creator.value_counts()"
   ]
  },
  {
   "cell_type": "markdown",
   "metadata": {},
   "source": [
    "### Antwort auf die 3. Frage: Das Ergebnis ist eindeutig - James Patterson war mit insgesamt 38 entliehenen Medientiteln der mit Abstand beliebteste creator im Dezember 2019.\n",
    "Wieso tauchen aber zwei unterschiedliche Schreibweisen des Autors auf? Aus meiner Erfahrung könnte die erste Schreibweise (\"Patterson, James, 1947-\") auf den Metadaten der analogen Medien und die 2. Schreibweise (\"James Patterson\") auf den Metadaten der digitalen Medien beruhen."
   ]
  },
  {
   "cell_type": "code",
   "execution_count": 20,
   "metadata": {},
   "outputs": [
    {
     "data": {
      "text/plain": [
       "Patterson, James, 1947-                 20\n",
       "Seuss, Dr.                               8\n",
       "Warner, Gertrude Chandler, 1890-1979     7\n",
       "Rylant, Cynthia                          7\n",
       "Keene, Carolyn                           7\n",
       "                                        ..\n",
       "Tey, Josephine, 1896 or 1897-1952        1\n",
       "Yancey, Richard                          1\n",
       "Grateful Dead (Musical group)            1\n",
       "Yellowhorn, Eldon, 1956-                 1\n",
       "Condie, Allyson Braithwaite              1\n",
       "Name: creator, Length: 4343, dtype: int64"
      ]
     },
     "execution_count": 20,
     "metadata": {},
     "output_type": "execute_result"
    }
   ],
   "source": [
    "# Ich lasse mir die ersten und die letzten fünf creators der analogen Medien (Usageclass: 'Physical') anzeigen:\n",
    "ausleihen[ausleihen.usageclass == 'Physical'].creator.value_counts()"
   ]
  },
  {
   "cell_type": "code",
   "execution_count": 21,
   "metadata": {
    "scrolled": true
   },
   "outputs": [
    {
     "data": {
      "text/plain": [
       "James Patterson              17\n",
       "Nora Roberts                 12\n",
       "M. C. Beaton                 12\n",
       "Stephen King                 10\n",
       "Agatha Christie              10\n",
       "                             ..\n",
       "Susan J Benjamin              1\n",
       "Jhené Aiko Efuru Chilombo     1\n",
       "M. K. England                 1\n",
       "James Altucher                1\n",
       "Jeanne Louise Pyle            1\n",
       "Name: creator, Length: 3010, dtype: int64"
      ]
     },
     "execution_count": 21,
     "metadata": {},
     "output_type": "execute_result"
    }
   ],
   "source": [
    "# Und die ersten und letzten fünf creators der digitalen Medien (Usageclass: 'Digital'):\n",
    "ausleihen[ausleihen.usageclass == 'Digital'].creator.value_counts()"
   ]
  },
  {
   "cell_type": "markdown",
   "metadata": {},
   "source": [
    "### Ergebnis: Meine Vermutung hat sich bestätigt, \"James Patterson\" sind die 18 digitalen und \"Patterson, James, 1947-\" die analogen Medien.\n",
    "Interessant ist: James Patterson ist sowohl analog als auch digital der beliebteste creator im Dezember 2019. Nora Roberts und die drei anderen beliebten creators wurden entweder digital oder analog entliehen.\n",
    "### Jetzt drängt sich noch folgende Frage auf: Um welche Medientitel handelt es sich bei den 38 Werken von James Pattersons bzw. welche Titel wurden analog und welche digital ausgeliehen?"
   ]
  },
  {
   "cell_type": "code",
   "execution_count": 22,
   "metadata": {},
   "outputs": [
    {
     "data": {
      "text/html": [
       "<div>\n",
       "<style scoped>\n",
       "    .dataframe tbody tr th:only-of-type {\n",
       "        vertical-align: middle;\n",
       "    }\n",
       "\n",
       "    .dataframe tbody tr th {\n",
       "        vertical-align: top;\n",
       "    }\n",
       "\n",
       "    .dataframe thead th {\n",
       "        text-align: right;\n",
       "    }\n",
       "</style>\n",
       "<table border=\"1\" class=\"dataframe\">\n",
       "  <thead>\n",
       "    <tr style=\"text-align: right;\">\n",
       "      <th></th>\n",
       "      <th>usageclass</th>\n",
       "      <th>checkouttype</th>\n",
       "      <th>materialtype</th>\n",
       "      <th>checkoutyear</th>\n",
       "      <th>checkoutmonth</th>\n",
       "      <th>checkouts</th>\n",
       "      <th>title</th>\n",
       "      <th>creator</th>\n",
       "      <th>subjects</th>\n",
       "      <th>publisher</th>\n",
       "      <th>publicationyear</th>\n",
       "    </tr>\n",
       "  </thead>\n",
       "  <tbody>\n",
       "    <tr>\n",
       "      <th>511</th>\n",
       "      <td>Physical</td>\n",
       "      <td>Horizon</td>\n",
       "      <td>SOUNDDISC</td>\n",
       "      <td>2019</td>\n",
       "      <td>12</td>\n",
       "      <td>1</td>\n",
       "      <td>Private India : city on fire / James Patterson...</td>\n",
       "      <td>Patterson, James, 1947-</td>\n",
       "      <td>Private investigators India Mumbai Fiction, Se...</td>\n",
       "      <td>Hachette Audio,</td>\n",
       "      <td>[2014]</td>\n",
       "    </tr>\n",
       "    <tr>\n",
       "      <th>2485</th>\n",
       "      <td>Physical</td>\n",
       "      <td>Horizon</td>\n",
       "      <td>BOOK</td>\n",
       "      <td>2019</td>\n",
       "      <td>12</td>\n",
       "      <td>17</td>\n",
       "      <td>Killer instinct / James Patterson &amp; Howard Rou...</td>\n",
       "      <td>Patterson, James, 1947-</td>\n",
       "      <td>College teachers Fiction, Women detectives New...</td>\n",
       "      <td>Little, Brown and Company,</td>\n",
       "      <td>[2019]</td>\n",
       "    </tr>\n",
       "    <tr>\n",
       "      <th>2569</th>\n",
       "      <td>Physical</td>\n",
       "      <td>Horizon</td>\n",
       "      <td>BOOK</td>\n",
       "      <td>2019</td>\n",
       "      <td>12</td>\n",
       "      <td>3</td>\n",
       "      <td>Give thank you a try / James Patterson.</td>\n",
       "      <td>Patterson, James, 1947-</td>\n",
       "      <td>Gratitude Juvenile fiction, Kindness Juvenile ...</td>\n",
       "      <td>Little, Brown and Company,</td>\n",
       "      <td>[2017]</td>\n",
       "    </tr>\n",
       "    <tr>\n",
       "      <th>4027</th>\n",
       "      <td>Physical</td>\n",
       "      <td>Horizon</td>\n",
       "      <td>SOUNDDISC</td>\n",
       "      <td>2019</td>\n",
       "      <td>12</td>\n",
       "      <td>1</td>\n",
       "      <td>14th deadly sin / James Patterson [and Maxine ...</td>\n",
       "      <td>Patterson, James, 1947-</td>\n",
       "      <td>Womens Murder Club Imaginary organization Fict...</td>\n",
       "      <td>Blackstone Audio, Inc. ; Hachette Audio,</td>\n",
       "      <td>[2015]</td>\n",
       "    </tr>\n",
       "    <tr>\n",
       "      <th>5433</th>\n",
       "      <td>Physical</td>\n",
       "      <td>Horizon</td>\n",
       "      <td>BOOK</td>\n",
       "      <td>2019</td>\n",
       "      <td>12</td>\n",
       "      <td>4</td>\n",
       "      <td>Jacky Ha-Ha : my life is a joke / James Patter...</td>\n",
       "      <td>Patterson, James, 1947-</td>\n",
       "      <td>Summer employment Juvenile fiction, Theater Ju...</td>\n",
       "      <td>Jimmy Patterson Books/Little, Brown and Company,</td>\n",
       "      <td>2017.</td>\n",
       "    </tr>\n",
       "    <tr>\n",
       "      <th>5615</th>\n",
       "      <td>Physical</td>\n",
       "      <td>Horizon</td>\n",
       "      <td>REGPRINT</td>\n",
       "      <td>2019</td>\n",
       "      <td>12</td>\n",
       "      <td>18</td>\n",
       "      <td>Unsolved / James Patterson and David Ellis.</td>\n",
       "      <td>Patterson, James, 1947-</td>\n",
       "      <td>United States Federal Bureau of Investigation ...</td>\n",
       "      <td>Little, Brown and Company,</td>\n",
       "      <td>2019.</td>\n",
       "    </tr>\n",
       "    <tr>\n",
       "      <th>6255</th>\n",
       "      <td>Physical</td>\n",
       "      <td>Horizon</td>\n",
       "      <td>BOOK</td>\n",
       "      <td>2019</td>\n",
       "      <td>12</td>\n",
       "      <td>3</td>\n",
       "      <td>Quest for the city of gold / by James Patterso...</td>\n",
       "      <td>Patterson, James, 1947-</td>\n",
       "      <td>Treasure troves Juvenile fiction, Family owned...</td>\n",
       "      <td>Jimmy Patterson Books / Little, Brown and Comp...</td>\n",
       "      <td>2018.</td>\n",
       "    </tr>\n",
       "    <tr>\n",
       "      <th>6369</th>\n",
       "      <td>Physical</td>\n",
       "      <td>Horizon</td>\n",
       "      <td>BOOK</td>\n",
       "      <td>2019</td>\n",
       "      <td>12</td>\n",
       "      <td>1</td>\n",
       "      <td>I, Michael Bennett / James Patterson and Micha...</td>\n",
       "      <td>Patterson, James, 1947-</td>\n",
       "      <td>Bennett Michael Fictitious character Fiction, ...</td>\n",
       "      <td>Little, Brown and Co.,</td>\n",
       "      <td>2012.</td>\n",
       "    </tr>\n",
       "    <tr>\n",
       "      <th>6442</th>\n",
       "      <td>Physical</td>\n",
       "      <td>Horizon</td>\n",
       "      <td>SOUNDDISC</td>\n",
       "      <td>2019</td>\n",
       "      <td>12</td>\n",
       "      <td>1</td>\n",
       "      <td>Laugh out loud / James Patterson and Chris Gra...</td>\n",
       "      <td>Patterson, James, 1947-</td>\n",
       "      <td>Books and reading Juvenile fiction, Publishers...</td>\n",
       "      <td>Hachette Book Group,</td>\n",
       "      <td>[2017]</td>\n",
       "    </tr>\n",
       "    <tr>\n",
       "      <th>6649</th>\n",
       "      <td>Physical</td>\n",
       "      <td>Horizon</td>\n",
       "      <td>BOOK</td>\n",
       "      <td>2019</td>\n",
       "      <td>12</td>\n",
       "      <td>3</td>\n",
       "      <td>Dog diaries / James Patterson ; with Steven Bu...</td>\n",
       "      <td>Patterson, James, 1947-</td>\n",
       "      <td>Dogs Juvenile fiction, Diaries Juvenile fictio...</td>\n",
       "      <td>Jimmy Patterson Books, Little, Brown and Company,</td>\n",
       "      <td>2018.</td>\n",
       "    </tr>\n",
       "    <tr>\n",
       "      <th>7190</th>\n",
       "      <td>Physical</td>\n",
       "      <td>Horizon</td>\n",
       "      <td>BOOK</td>\n",
       "      <td>2019</td>\n",
       "      <td>12</td>\n",
       "      <td>1</td>\n",
       "      <td>Maximum Ride. [2] / [James Patterson ; adaptat...</td>\n",
       "      <td>Patterson, James, 1947-</td>\n",
       "      <td>Genetic engineering Comic books strips etc, Ad...</td>\n",
       "      <td>Yen Press,</td>\n",
       "      <td>2009.</td>\n",
       "    </tr>\n",
       "    <tr>\n",
       "      <th>7733</th>\n",
       "      <td>Physical</td>\n",
       "      <td>Horizon</td>\n",
       "      <td>BOOK</td>\n",
       "      <td>2019</td>\n",
       "      <td>12</td>\n",
       "      <td>20</td>\n",
       "      <td>The inn / James Patterson and Candice Fox.</td>\n",
       "      <td>Patterson, James, 1947-</td>\n",
       "      <td>Drugs Fiction, Ex police officers Fiction, Hot...</td>\n",
       "      <td>Little, Brown and Company,</td>\n",
       "      <td>2019.</td>\n",
       "    </tr>\n",
       "    <tr>\n",
       "      <th>7794</th>\n",
       "      <td>Physical</td>\n",
       "      <td>Horizon</td>\n",
       "      <td>BOOK</td>\n",
       "      <td>2019</td>\n",
       "      <td>12</td>\n",
       "      <td>1</td>\n",
       "      <td>Burn / James Patterson and Michael Ledwidge.</td>\n",
       "      <td>Patterson, James, 1947-</td>\n",
       "      <td>Bennett Michael Fictitious character Fiction, ...</td>\n",
       "      <td>Little, Brown &amp; Company,</td>\n",
       "      <td>2014.</td>\n",
       "    </tr>\n",
       "    <tr>\n",
       "      <th>8118</th>\n",
       "      <td>Physical</td>\n",
       "      <td>Horizon</td>\n",
       "      <td>BOOK</td>\n",
       "      <td>2019</td>\n",
       "      <td>12</td>\n",
       "      <td>5</td>\n",
       "      <td>The inn / James Patterson and Candice Fox.</td>\n",
       "      <td>Patterson, James, 1947-</td>\n",
       "      <td>Drugs Fiction, Ex police officers Fiction, Hot...</td>\n",
       "      <td>Little Brown and Company</td>\n",
       "      <td>2019.</td>\n",
       "    </tr>\n",
       "    <tr>\n",
       "      <th>8147</th>\n",
       "      <td>Physical</td>\n",
       "      <td>Horizon</td>\n",
       "      <td>BOOK</td>\n",
       "      <td>2019</td>\n",
       "      <td>12</td>\n",
       "      <td>1</td>\n",
       "      <td>Gone / James Patterson and Michael Ledwidge.</td>\n",
       "      <td>Patterson, James, 1947-</td>\n",
       "      <td>Bennett Michael Fictitious character Fiction, ...</td>\n",
       "      <td>Little, Brown and Company,</td>\n",
       "      <td>2013.</td>\n",
       "    </tr>\n",
       "    <tr>\n",
       "      <th>8240</th>\n",
       "      <td>Physical</td>\n",
       "      <td>Horizon</td>\n",
       "      <td>SOUNDDISC</td>\n",
       "      <td>2019</td>\n",
       "      <td>12</td>\n",
       "      <td>1</td>\n",
       "      <td>$10,000,000 marriage proposal / James Patterso...</td>\n",
       "      <td>Patterson, James, 1947-</td>\n",
       "      <td>Marriage proposals Fiction, Businessmen Fictio...</td>\n",
       "      <td>Hachette Audio,</td>\n",
       "      <td>[2016]</td>\n",
       "    </tr>\n",
       "    <tr>\n",
       "      <th>8485</th>\n",
       "      <td>Physical</td>\n",
       "      <td>Horizon</td>\n",
       "      <td>SOUNDDISC</td>\n",
       "      <td>2019</td>\n",
       "      <td>12</td>\n",
       "      <td>1</td>\n",
       "      <td>Middle school born to rock / James Patterson a...</td>\n",
       "      <td>Patterson, James, 1947-</td>\n",
       "      <td>Middle school students Juvenile fiction, Siste...</td>\n",
       "      <td>Hachette Audio,</td>\n",
       "      <td>2019.</td>\n",
       "    </tr>\n",
       "    <tr>\n",
       "      <th>8936</th>\n",
       "      <td>Physical</td>\n",
       "      <td>Horizon</td>\n",
       "      <td>BOOK</td>\n",
       "      <td>2019</td>\n",
       "      <td>12</td>\n",
       "      <td>1</td>\n",
       "      <td>Home sweet murder : true-crime thrillers / Jam...</td>\n",
       "      <td>Patterson, James, 1947-</td>\n",
       "      <td>Murder United States Case studies, Attempted m...</td>\n",
       "      <td>Thorndike Press, a part of Gale, a Cengage Com...</td>\n",
       "      <td>2018.</td>\n",
       "    </tr>\n",
       "    <tr>\n",
       "      <th>9605</th>\n",
       "      <td>Physical</td>\n",
       "      <td>Horizon</td>\n",
       "      <td>BOOK</td>\n",
       "      <td>2019</td>\n",
       "      <td>12</td>\n",
       "      <td>5</td>\n",
       "      <td>Just my rotten luck / James Patterson and Chri...</td>\n",
       "      <td>Patterson, James, 1947-</td>\n",
       "      <td>Middle schools Juvenile fiction, Bullying Juve...</td>\n",
       "      <td>Little, Brown and Company,</td>\n",
       "      <td>2015.</td>\n",
       "    </tr>\n",
       "    <tr>\n",
       "      <th>9830</th>\n",
       "      <td>Physical</td>\n",
       "      <td>Horizon</td>\n",
       "      <td>BOOK</td>\n",
       "      <td>2019</td>\n",
       "      <td>12</td>\n",
       "      <td>1</td>\n",
       "      <td>Sundays at Tiffany's / James Patterson and Gab...</td>\n",
       "      <td>Patterson, James, 1947-</td>\n",
       "      <td>Imaginary companions Fiction, Large type books...</td>\n",
       "      <td>Little, Brown and Company,</td>\n",
       "      <td>2008.</td>\n",
       "    </tr>\n",
       "  </tbody>\n",
       "</table>\n",
       "</div>"
      ],
      "text/plain": [
       "     usageclass checkouttype materialtype  checkoutyear  checkoutmonth  \\\n",
       "511    Physical      Horizon    SOUNDDISC          2019             12   \n",
       "2485   Physical      Horizon         BOOK          2019             12   \n",
       "2569   Physical      Horizon         BOOK          2019             12   \n",
       "4027   Physical      Horizon    SOUNDDISC          2019             12   \n",
       "5433   Physical      Horizon         BOOK          2019             12   \n",
       "5615   Physical      Horizon     REGPRINT          2019             12   \n",
       "6255   Physical      Horizon         BOOK          2019             12   \n",
       "6369   Physical      Horizon         BOOK          2019             12   \n",
       "6442   Physical      Horizon    SOUNDDISC          2019             12   \n",
       "6649   Physical      Horizon         BOOK          2019             12   \n",
       "7190   Physical      Horizon         BOOK          2019             12   \n",
       "7733   Physical      Horizon         BOOK          2019             12   \n",
       "7794   Physical      Horizon         BOOK          2019             12   \n",
       "8118   Physical      Horizon         BOOK          2019             12   \n",
       "8147   Physical      Horizon         BOOK          2019             12   \n",
       "8240   Physical      Horizon    SOUNDDISC          2019             12   \n",
       "8485   Physical      Horizon    SOUNDDISC          2019             12   \n",
       "8936   Physical      Horizon         BOOK          2019             12   \n",
       "9605   Physical      Horizon         BOOK          2019             12   \n",
       "9830   Physical      Horizon         BOOK          2019             12   \n",
       "\n",
       "      checkouts                                              title  \\\n",
       "511           1  Private India : city on fire / James Patterson...   \n",
       "2485         17  Killer instinct / James Patterson & Howard Rou...   \n",
       "2569          3            Give thank you a try / James Patterson.   \n",
       "4027          1  14th deadly sin / James Patterson [and Maxine ...   \n",
       "5433          4  Jacky Ha-Ha : my life is a joke / James Patter...   \n",
       "5615         18        Unsolved / James Patterson and David Ellis.   \n",
       "6255          3  Quest for the city of gold / by James Patterso...   \n",
       "6369          1  I, Michael Bennett / James Patterson and Micha...   \n",
       "6442          1  Laugh out loud / James Patterson and Chris Gra...   \n",
       "6649          3  Dog diaries / James Patterson ; with Steven Bu...   \n",
       "7190          1  Maximum Ride. [2] / [James Patterson ; adaptat...   \n",
       "7733         20         The inn / James Patterson and Candice Fox.   \n",
       "7794          1       Burn / James Patterson and Michael Ledwidge.   \n",
       "8118          5         The inn / James Patterson and Candice Fox.   \n",
       "8147          1       Gone / James Patterson and Michael Ledwidge.   \n",
       "8240          1  $10,000,000 marriage proposal / James Patterso...   \n",
       "8485          1  Middle school born to rock / James Patterson a...   \n",
       "8936          1  Home sweet murder : true-crime thrillers / Jam...   \n",
       "9605          5  Just my rotten luck / James Patterson and Chri...   \n",
       "9830          1  Sundays at Tiffany's / James Patterson and Gab...   \n",
       "\n",
       "                      creator  \\\n",
       "511   Patterson, James, 1947-   \n",
       "2485  Patterson, James, 1947-   \n",
       "2569  Patterson, James, 1947-   \n",
       "4027  Patterson, James, 1947-   \n",
       "5433  Patterson, James, 1947-   \n",
       "5615  Patterson, James, 1947-   \n",
       "6255  Patterson, James, 1947-   \n",
       "6369  Patterson, James, 1947-   \n",
       "6442  Patterson, James, 1947-   \n",
       "6649  Patterson, James, 1947-   \n",
       "7190  Patterson, James, 1947-   \n",
       "7733  Patterson, James, 1947-   \n",
       "7794  Patterson, James, 1947-   \n",
       "8118  Patterson, James, 1947-   \n",
       "8147  Patterson, James, 1947-   \n",
       "8240  Patterson, James, 1947-   \n",
       "8485  Patterson, James, 1947-   \n",
       "8936  Patterson, James, 1947-   \n",
       "9605  Patterson, James, 1947-   \n",
       "9830  Patterson, James, 1947-   \n",
       "\n",
       "                                               subjects  \\\n",
       "511   Private investigators India Mumbai Fiction, Se...   \n",
       "2485  College teachers Fiction, Women detectives New...   \n",
       "2569  Gratitude Juvenile fiction, Kindness Juvenile ...   \n",
       "4027  Womens Murder Club Imaginary organization Fict...   \n",
       "5433  Summer employment Juvenile fiction, Theater Ju...   \n",
       "5615  United States Federal Bureau of Investigation ...   \n",
       "6255  Treasure troves Juvenile fiction, Family owned...   \n",
       "6369  Bennett Michael Fictitious character Fiction, ...   \n",
       "6442  Books and reading Juvenile fiction, Publishers...   \n",
       "6649  Dogs Juvenile fiction, Diaries Juvenile fictio...   \n",
       "7190  Genetic engineering Comic books strips etc, Ad...   \n",
       "7733  Drugs Fiction, Ex police officers Fiction, Hot...   \n",
       "7794  Bennett Michael Fictitious character Fiction, ...   \n",
       "8118  Drugs Fiction, Ex police officers Fiction, Hot...   \n",
       "8147  Bennett Michael Fictitious character Fiction, ...   \n",
       "8240  Marriage proposals Fiction, Businessmen Fictio...   \n",
       "8485  Middle school students Juvenile fiction, Siste...   \n",
       "8936  Murder United States Case studies, Attempted m...   \n",
       "9605  Middle schools Juvenile fiction, Bullying Juve...   \n",
       "9830  Imaginary companions Fiction, Large type books...   \n",
       "\n",
       "                                              publisher publicationyear  \n",
       "511                                     Hachette Audio,          [2014]  \n",
       "2485                         Little, Brown and Company,          [2019]  \n",
       "2569                         Little, Brown and Company,          [2017]  \n",
       "4027           Blackstone Audio, Inc. ; Hachette Audio,          [2015]  \n",
       "5433   Jimmy Patterson Books/Little, Brown and Company,           2017.  \n",
       "5615                         Little, Brown and Company,           2019.  \n",
       "6255  Jimmy Patterson Books / Little, Brown and Comp...           2018.  \n",
       "6369                             Little, Brown and Co.,           2012.  \n",
       "6442                               Hachette Book Group,          [2017]  \n",
       "6649  Jimmy Patterson Books, Little, Brown and Company,           2018.  \n",
       "7190                                         Yen Press,           2009.  \n",
       "7733                         Little, Brown and Company,           2019.  \n",
       "7794                           Little, Brown & Company,           2014.  \n",
       "8118                           Little Brown and Company           2019.  \n",
       "8147                         Little, Brown and Company,           2013.  \n",
       "8240                                    Hachette Audio,          [2016]  \n",
       "8485                                    Hachette Audio,           2019.  \n",
       "8936  Thorndike Press, a part of Gale, a Cengage Com...           2018.  \n",
       "9605                         Little, Brown and Company,           2015.  \n",
       "9830                         Little, Brown and Company,           2008.  "
      ]
     },
     "execution_count": 22,
     "metadata": {},
     "output_type": "execute_result"
    }
   ],
   "source": [
    "# Alle Medientitel analog/physical (= \"Patterson, James, 1947-\"):\n",
    "ausleihen[ausleihen.creator == 'Patterson, James, 1947-']"
   ]
  },
  {
   "cell_type": "code",
   "execution_count": 23,
   "metadata": {},
   "outputs": [
    {
     "data": {
      "text/html": [
       "<div>\n",
       "<style scoped>\n",
       "    .dataframe tbody tr th:only-of-type {\n",
       "        vertical-align: middle;\n",
       "    }\n",
       "\n",
       "    .dataframe tbody tr th {\n",
       "        vertical-align: top;\n",
       "    }\n",
       "\n",
       "    .dataframe thead th {\n",
       "        text-align: right;\n",
       "    }\n",
       "</style>\n",
       "<table border=\"1\" class=\"dataframe\">\n",
       "  <thead>\n",
       "    <tr style=\"text-align: right;\">\n",
       "      <th></th>\n",
       "      <th>usageclass</th>\n",
       "      <th>checkouttype</th>\n",
       "      <th>materialtype</th>\n",
       "      <th>checkoutyear</th>\n",
       "      <th>checkoutmonth</th>\n",
       "      <th>checkouts</th>\n",
       "      <th>title</th>\n",
       "      <th>creator</th>\n",
       "      <th>subjects</th>\n",
       "      <th>publisher</th>\n",
       "      <th>publicationyear</th>\n",
       "    </tr>\n",
       "  </thead>\n",
       "  <tbody>\n",
       "    <tr>\n",
       "      <th>1430</th>\n",
       "      <td>Digital</td>\n",
       "      <td>OverDrive</td>\n",
       "      <td>EBOOK</td>\n",
       "      <td>2019</td>\n",
       "      <td>12</td>\n",
       "      <td>9</td>\n",
       "      <td>The 13-Minute Murder: A Thriller</td>\n",
       "      <td>James Patterson</td>\n",
       "      <td>Fiction, Suspense, Thriller</td>\n",
       "      <td>Hachette Digital, Inc.</td>\n",
       "      <td>2019</td>\n",
       "    </tr>\n",
       "    <tr>\n",
       "      <th>1451</th>\n",
       "      <td>Digital</td>\n",
       "      <td>OverDrive</td>\n",
       "      <td>AUDIOBOOK</td>\n",
       "      <td>2019</td>\n",
       "      <td>12</td>\n",
       "      <td>1</td>\n",
       "      <td>Hunted (Unabridged)</td>\n",
       "      <td>James Patterson</td>\n",
       "      <td>Fiction, Suspense, Thriller</td>\n",
       "      <td>Blackstone Audio, Inc.</td>\n",
       "      <td>2016</td>\n",
       "    </tr>\n",
       "    <tr>\n",
       "      <th>1967</th>\n",
       "      <td>Digital</td>\n",
       "      <td>OverDrive</td>\n",
       "      <td>AUDIOBOOK</td>\n",
       "      <td>2019</td>\n",
       "      <td>12</td>\n",
       "      <td>14</td>\n",
       "      <td>The Cornwalls Are Gone: Amy Cornwall Series, B...</td>\n",
       "      <td>James Patterson</td>\n",
       "      <td>Fiction, Suspense, Thriller</td>\n",
       "      <td>Blackstone Audio, Inc.</td>\n",
       "      <td>2019</td>\n",
       "    </tr>\n",
       "    <tr>\n",
       "      <th>1978</th>\n",
       "      <td>Digital</td>\n",
       "      <td>OverDrive</td>\n",
       "      <td>AUDIOBOOK</td>\n",
       "      <td>2019</td>\n",
       "      <td>12</td>\n",
       "      <td>3</td>\n",
       "      <td>Chase: Michael Bennett Series, Book 9.5 (unabr...</td>\n",
       "      <td>James Patterson</td>\n",
       "      <td>Fiction, Mystery, Thriller</td>\n",
       "      <td>Blackstone Audio, Inc.</td>\n",
       "      <td>2016</td>\n",
       "    </tr>\n",
       "    <tr>\n",
       "      <th>2527</th>\n",
       "      <td>Digital</td>\n",
       "      <td>OverDrive</td>\n",
       "      <td>EBOOK</td>\n",
       "      <td>2019</td>\n",
       "      <td>12</td>\n",
       "      <td>9</td>\n",
       "      <td>14th Deadly Sin: Women's Murder Club Series, B...</td>\n",
       "      <td>James Patterson</td>\n",
       "      <td>Fiction, Mystery, Suspense, Thriller</td>\n",
       "      <td>Hachette Digital, Inc.</td>\n",
       "      <td>2015</td>\n",
       "    </tr>\n",
       "    <tr>\n",
       "      <th>3001</th>\n",
       "      <td>Digital</td>\n",
       "      <td>OverDrive</td>\n",
       "      <td>EBOOK</td>\n",
       "      <td>2019</td>\n",
       "      <td>12</td>\n",
       "      <td>8</td>\n",
       "      <td>The Store</td>\n",
       "      <td>James Patterson</td>\n",
       "      <td>Fiction, Thriller</td>\n",
       "      <td>Hachette Digital, Inc.</td>\n",
       "      <td>2017</td>\n",
       "    </tr>\n",
       "    <tr>\n",
       "      <th>3274</th>\n",
       "      <td>Digital</td>\n",
       "      <td>OverDrive</td>\n",
       "      <td>AUDIOBOOK</td>\n",
       "      <td>2019</td>\n",
       "      <td>12</td>\n",
       "      <td>2</td>\n",
       "      <td>Rebels with a Cause: Max Einstein Series, Book...</td>\n",
       "      <td>James Patterson</td>\n",
       "      <td>Juvenile Fiction, Juvenile Literature, Science...</td>\n",
       "      <td>Blackstone Audio, Inc.</td>\n",
       "      <td>2019</td>\n",
       "    </tr>\n",
       "    <tr>\n",
       "      <th>3925</th>\n",
       "      <td>Digital</td>\n",
       "      <td>OverDrive</td>\n",
       "      <td>EBOOK</td>\n",
       "      <td>2019</td>\n",
       "      <td>12</td>\n",
       "      <td>1</td>\n",
       "      <td>The Final Warning: Maximum Ride Series, Book 4</td>\n",
       "      <td>James Patterson</td>\n",
       "      <td>Science Fiction, Thriller, Young Adult Fiction</td>\n",
       "      <td>Hachette Digital, Inc.</td>\n",
       "      <td>2010</td>\n",
       "    </tr>\n",
       "    <tr>\n",
       "      <th>4715</th>\n",
       "      <td>Digital</td>\n",
       "      <td>OverDrive</td>\n",
       "      <td>AUDIOBOOK</td>\n",
       "      <td>2019</td>\n",
       "      <td>12</td>\n",
       "      <td>15</td>\n",
       "      <td>1st to Die: Women's Murder Club Series, Book 1...</td>\n",
       "      <td>James Patterson</td>\n",
       "      <td>Fiction, Mystery, Thriller</td>\n",
       "      <td>Hachette Audio</td>\n",
       "      <td>2006</td>\n",
       "    </tr>\n",
       "    <tr>\n",
       "      <th>6242</th>\n",
       "      <td>Digital</td>\n",
       "      <td>OverDrive</td>\n",
       "      <td>AUDIOBOOK</td>\n",
       "      <td>2019</td>\n",
       "      <td>12</td>\n",
       "      <td>3</td>\n",
       "      <td>Double Cross: Alex Cross Series, Book 13 (unab...</td>\n",
       "      <td>James Patterson</td>\n",
       "      <td>Fiction, Mystery</td>\n",
       "      <td>Books on Tape</td>\n",
       "      <td>2008</td>\n",
       "    </tr>\n",
       "    <tr>\n",
       "      <th>6331</th>\n",
       "      <td>Digital</td>\n",
       "      <td>OverDrive</td>\n",
       "      <td>AUDIOBOOK</td>\n",
       "      <td>2019</td>\n",
       "      <td>12</td>\n",
       "      <td>3</td>\n",
       "      <td>Happy Howlidays: A Middle School Story (Unabri...</td>\n",
       "      <td>James Patterson</td>\n",
       "      <td>Humor (Fiction), Juvenile Fiction, Juvenile Li...</td>\n",
       "      <td>Blackstone Audio, Inc.</td>\n",
       "      <td>2019</td>\n",
       "    </tr>\n",
       "    <tr>\n",
       "      <th>6515</th>\n",
       "      <td>Digital</td>\n",
       "      <td>OverDrive</td>\n",
       "      <td>EBOOK</td>\n",
       "      <td>2019</td>\n",
       "      <td>12</td>\n",
       "      <td>1</td>\n",
       "      <td>Escape to Australia: Middle School Series, Book 9</td>\n",
       "      <td>James Patterson</td>\n",
       "      <td>Humor (Fiction), Juvenile Fiction, Juvenile Li...</td>\n",
       "      <td>Hachette Digital, Inc.</td>\n",
       "      <td>2017</td>\n",
       "    </tr>\n",
       "    <tr>\n",
       "      <th>6770</th>\n",
       "      <td>Digital</td>\n",
       "      <td>OverDrive</td>\n",
       "      <td>AUDIOBOOK</td>\n",
       "      <td>2019</td>\n",
       "      <td>12</td>\n",
       "      <td>2</td>\n",
       "      <td>Katt vs. Dogg (Unabridged)</td>\n",
       "      <td>James Patterson</td>\n",
       "      <td>Juvenile Fiction, Juvenile Literature</td>\n",
       "      <td>Blackstone Audio, Inc.</td>\n",
       "      <td>2019</td>\n",
       "    </tr>\n",
       "    <tr>\n",
       "      <th>6838</th>\n",
       "      <td>Digital</td>\n",
       "      <td>OverDrive</td>\n",
       "      <td>AUDIOBOOK</td>\n",
       "      <td>2019</td>\n",
       "      <td>12</td>\n",
       "      <td>1</td>\n",
       "      <td>Game Over: Daniel X Series, Book 4 (unabridged...</td>\n",
       "      <td>James Patterson</td>\n",
       "      <td>Science Fiction, Young Adult Fiction</td>\n",
       "      <td>Blackstone Audio, Inc.</td>\n",
       "      <td>2011</td>\n",
       "    </tr>\n",
       "    <tr>\n",
       "      <th>6970</th>\n",
       "      <td>Digital</td>\n",
       "      <td>OverDrive</td>\n",
       "      <td>AUDIOBOOK</td>\n",
       "      <td>2019</td>\n",
       "      <td>12</td>\n",
       "      <td>3</td>\n",
       "      <td>My Brother Is a Big, Fat Liar: Middle School S...</td>\n",
       "      <td>James Patterson</td>\n",
       "      <td>Humor (Fiction), Juvenile Fiction</td>\n",
       "      <td>Blackstone Audio, Inc.</td>\n",
       "      <td>2013</td>\n",
       "    </tr>\n",
       "    <tr>\n",
       "      <th>7514</th>\n",
       "      <td>Digital</td>\n",
       "      <td>OverDrive</td>\n",
       "      <td>AUDIOBOOK</td>\n",
       "      <td>2019</td>\n",
       "      <td>12</td>\n",
       "      <td>8</td>\n",
       "      <td>Murder Beyond the Grave: Murder Is Forever, Vo...</td>\n",
       "      <td>James Patterson</td>\n",
       "      <td>Biography &amp; Autobiography, Nonfiction, True Crime</td>\n",
       "      <td>Blackstone Audio, Inc.</td>\n",
       "      <td>2018</td>\n",
       "    </tr>\n",
       "    <tr>\n",
       "      <th>7945</th>\n",
       "      <td>Digital</td>\n",
       "      <td>OverDrive</td>\n",
       "      <td>EBOOK</td>\n",
       "      <td>2019</td>\n",
       "      <td>12</td>\n",
       "      <td>2</td>\n",
       "      <td>The House Husband</td>\n",
       "      <td>James Patterson</td>\n",
       "      <td>Fiction, Suspense, Thriller</td>\n",
       "      <td>Hachette Digital, Inc.</td>\n",
       "      <td>2017</td>\n",
       "    </tr>\n",
       "  </tbody>\n",
       "</table>\n",
       "</div>"
      ],
      "text/plain": [
       "     usageclass checkouttype materialtype  checkoutyear  checkoutmonth  \\\n",
       "1430    Digital    OverDrive        EBOOK          2019             12   \n",
       "1451    Digital    OverDrive    AUDIOBOOK          2019             12   \n",
       "1967    Digital    OverDrive    AUDIOBOOK          2019             12   \n",
       "1978    Digital    OverDrive    AUDIOBOOK          2019             12   \n",
       "2527    Digital    OverDrive        EBOOK          2019             12   \n",
       "3001    Digital    OverDrive        EBOOK          2019             12   \n",
       "3274    Digital    OverDrive    AUDIOBOOK          2019             12   \n",
       "3925    Digital    OverDrive        EBOOK          2019             12   \n",
       "4715    Digital    OverDrive    AUDIOBOOK          2019             12   \n",
       "6242    Digital    OverDrive    AUDIOBOOK          2019             12   \n",
       "6331    Digital    OverDrive    AUDIOBOOK          2019             12   \n",
       "6515    Digital    OverDrive        EBOOK          2019             12   \n",
       "6770    Digital    OverDrive    AUDIOBOOK          2019             12   \n",
       "6838    Digital    OverDrive    AUDIOBOOK          2019             12   \n",
       "6970    Digital    OverDrive    AUDIOBOOK          2019             12   \n",
       "7514    Digital    OverDrive    AUDIOBOOK          2019             12   \n",
       "7945    Digital    OverDrive        EBOOK          2019             12   \n",
       "\n",
       "      checkouts                                              title  \\\n",
       "1430          9                   The 13-Minute Murder: A Thriller   \n",
       "1451          1                                Hunted (Unabridged)   \n",
       "1967         14  The Cornwalls Are Gone: Amy Cornwall Series, B...   \n",
       "1978          3  Chase: Michael Bennett Series, Book 9.5 (unabr...   \n",
       "2527          9  14th Deadly Sin: Women's Murder Club Series, B...   \n",
       "3001          8                                          The Store   \n",
       "3274          2  Rebels with a Cause: Max Einstein Series, Book...   \n",
       "3925          1     The Final Warning: Maximum Ride Series, Book 4   \n",
       "4715         15  1st to Die: Women's Murder Club Series, Book 1...   \n",
       "6242          3  Double Cross: Alex Cross Series, Book 13 (unab...   \n",
       "6331          3  Happy Howlidays: A Middle School Story (Unabri...   \n",
       "6515          1  Escape to Australia: Middle School Series, Book 9   \n",
       "6770          2                         Katt vs. Dogg (Unabridged)   \n",
       "6838          1  Game Over: Daniel X Series, Book 4 (unabridged...   \n",
       "6970          3  My Brother Is a Big, Fat Liar: Middle School S...   \n",
       "7514          8  Murder Beyond the Grave: Murder Is Forever, Vo...   \n",
       "7945          2                                  The House Husband   \n",
       "\n",
       "              creator                                           subjects  \\\n",
       "1430  James Patterson                        Fiction, Suspense, Thriller   \n",
       "1451  James Patterson                        Fiction, Suspense, Thriller   \n",
       "1967  James Patterson                        Fiction, Suspense, Thriller   \n",
       "1978  James Patterson                         Fiction, Mystery, Thriller   \n",
       "2527  James Patterson               Fiction, Mystery, Suspense, Thriller   \n",
       "3001  James Patterson                                  Fiction, Thriller   \n",
       "3274  James Patterson  Juvenile Fiction, Juvenile Literature, Science...   \n",
       "3925  James Patterson     Science Fiction, Thriller, Young Adult Fiction   \n",
       "4715  James Patterson                         Fiction, Mystery, Thriller   \n",
       "6242  James Patterson                                   Fiction, Mystery   \n",
       "6331  James Patterson  Humor (Fiction), Juvenile Fiction, Juvenile Li...   \n",
       "6515  James Patterson  Humor (Fiction), Juvenile Fiction, Juvenile Li...   \n",
       "6770  James Patterson              Juvenile Fiction, Juvenile Literature   \n",
       "6838  James Patterson               Science Fiction, Young Adult Fiction   \n",
       "6970  James Patterson                  Humor (Fiction), Juvenile Fiction   \n",
       "7514  James Patterson  Biography & Autobiography, Nonfiction, True Crime   \n",
       "7945  James Patterson                        Fiction, Suspense, Thriller   \n",
       "\n",
       "                   publisher publicationyear  \n",
       "1430  Hachette Digital, Inc.            2019  \n",
       "1451  Blackstone Audio, Inc.            2016  \n",
       "1967  Blackstone Audio, Inc.            2019  \n",
       "1978  Blackstone Audio, Inc.            2016  \n",
       "2527  Hachette Digital, Inc.            2015  \n",
       "3001  Hachette Digital, Inc.            2017  \n",
       "3274  Blackstone Audio, Inc.            2019  \n",
       "3925  Hachette Digital, Inc.            2010  \n",
       "4715          Hachette Audio            2006  \n",
       "6242           Books on Tape            2008  \n",
       "6331  Blackstone Audio, Inc.            2019  \n",
       "6515  Hachette Digital, Inc.            2017  \n",
       "6770  Blackstone Audio, Inc.            2019  \n",
       "6838  Blackstone Audio, Inc.            2011  \n",
       "6970  Blackstone Audio, Inc.            2013  \n",
       "7514  Blackstone Audio, Inc.            2018  \n",
       "7945  Hachette Digital, Inc.            2017  "
      ]
     },
     "execution_count": 23,
     "metadata": {},
     "output_type": "execute_result"
    }
   ],
   "source": [
    "# Alle Medientitel digital (= \"James Patterson\"):\n",
    "ausleihen[ausleihen.creator == 'James Patterson']"
   ]
  },
  {
   "cell_type": "markdown",
   "metadata": {},
   "source": [
    "### Fazit: Digital wurden ausschließlich Bücher (\"EBOOK\") und Hörbücher (\"AUDIOBOOK) von Patterson entliehen. Analog wurden Bücher (\"BOOKS\"), Hörbücher (\"SOUNDDISC\") und ein sog. \"REGPRINT\" ausgeliehen."
   ]
  },
  {
   "cell_type": "markdown",
   "metadata": {},
   "source": [
    "## 4. Frage: Wurden im Dezember 2019 mehr digitale oder analoge Bücher und Hörbücher ausgeliehen?\n",
    "In der Stadtbücherei Münster können die Kunden durch den Bibliotheksverbund muensterload.de immer mehr digitale Medien ausleihen, hier hauptsächlich eBooks und eAudios. Es überwiegen aber immer noch die analogen Bücher und Hörbücher. Wie sah dieses Verhältnis in der Seattle Public Library im Dezember 2019 aus?"
   ]
  },
  {
   "cell_type": "code",
   "execution_count": 24,
   "metadata": {},
   "outputs": [
    {
     "data": {
      "text/plain": [
       "BOOK                              4421\n",
       "EBOOK                             2747\n",
       "AUDIOBOOK                         1138\n",
       "VIDEODISC                          885\n",
       "SOUNDDISC                          737\n",
       "REGPRINT                            22\n",
       "MUSIC                               15\n",
       "SOUNDDISC, VIDEODISC                 9\n",
       "VIDEO                                9\n",
       "ER                                   4\n",
       "LARGEPRINT                           4\n",
       "ER, SOUNDDISC                        3\n",
       "MUSICSNDREC                          1\n",
       "CR                                   1\n",
       "ATLAS                                1\n",
       "VISUAL                               1\n",
       "SOUNDREC                             1\n",
       "SOUNDCASS, SOUNDDISC, SOUNDREC       1\n",
       "Name: materialtype, dtype: int64"
      ]
     },
     "execution_count": 24,
     "metadata": {},
     "output_type": "execute_result"
    }
   ],
   "source": [
    "# Welche Medientypen (\"materialtype\") gibt es überhaupt und wie viele jeweils (\"value_counts\"):\n",
    "ausleihen.materialtype.value_counts()"
   ]
  },
  {
   "cell_type": "markdown",
   "metadata": {},
   "source": [
    "### Antwort auf die 4. Frage: In der Ausleihe überwiegen mit 4416 Titeln eindeutig die analogen Bücher (BOOKS) gegenüber den 2749 digitalen Büchern (EBOOK). Bei den Hörbüchern ist es andersherum: die digitalen Hörbücher (AUDIOBOOK) sind mit 1133 Titeln wesentlich häufiger vertreten als die analogen Hörbücher (SOUNDDISC) mit 746 Titeln."
   ]
  },
  {
   "cell_type": "code",
   "execution_count": 35,
   "metadata": {},
   "outputs": [
    {
     "data": {
      "text/plain": [
       "usageclass         object\n",
       "checkouttype       object\n",
       "materialtype       object\n",
       "checkoutyear        int64\n",
       "checkoutmonth       int64\n",
       "checkouts           int64\n",
       "title              object\n",
       "creator            object\n",
       "subjects           object\n",
       "publisher          object\n",
       "publicationyear    object\n",
       "dtype: object"
      ]
     },
     "execution_count": 35,
     "metadata": {},
     "output_type": "execute_result"
    }
   ],
   "source": [
    "# Zur Erinnerung: welcher Datentyp ist materialtype?\n",
    "ausleihen.dtypes"
   ]
  },
  {
   "cell_type": "markdown",
   "metadata": {},
   "source": [
    "### Zur besseren Veranschaulichung der vier Medientypen: Umsetzung der Verteilung von Books und Ebooks sowie Sounddiscs und Audiobooks in einem Kuchendiagramm"
   ]
  },
  {
   "cell_type": "code",
   "execution_count": 43,
   "metadata": {
    "scrolled": true
   },
   "outputs": [
    {
     "data": {
      "image/png": "[encoded data removed]",
      "text/plain": [
       "<Figure size 432x288 with 1 Axes>"
      ]
     },
     "metadata": {},
     "output_type": "display_data"
    }
   ],
   "source": [
    "# Alle vier gewünschten Materialtypen als Variablen mit \"loc\" herausfiltern und mit \"count()[0]\" zählen:\n",
    "BOOK = ausleihen.loc[ausleihen['materialtype'] == 'BOOK'].count()[0]\n",
    "EBOOK = ausleihen.loc[ausleihen['materialtype'] == 'EBOOK'].count()[0]\n",
    "AUDIOBOOK = ausleihen.loc[ausleihen['materialtype'] == 'AUDIOBOOK'].count()[0]\n",
    "SOUNDDISC = ausleihen.loc[ausleihen['materialtype'] == 'SOUNDDISC'].count()[0]\n",
    "\n",
    "# Beschriftung (\"labels\") und Farben (\"colors\") festlegen:\n",
    "labels = ['BOOK', 'EBOOK', 'AUDIOBOOK', 'SOUNDDISC']\n",
    "colors = ['blue', 'green', 'violet', 'pink']\n",
    "\n",
    "# Mit \"plt.pie\" festlegen, welche Materialtypen ich plotten will, Prozentangabe hinzufügen und Diagramm betiteln:\n",
    "plt.pie([BOOK, EBOOK, AUDIOBOOK, SOUNDDISC], labels = labels, colors=colors, autopct='%.2f %%')\n",
    "plt.title('Distribution of materialtypes: Books and Ebooks, Sounddiscs and Audiobooks')\n",
    "plt.show()"
   ]
  },
  {
   "cell_type": "markdown",
   "metadata": {},
   "source": [
    "### Fazit 4. Frage: Das Kuchendiagramm zeigt anschaulich, dass in der Seattle Public Library im Dezember 2019  die analogen Bücher mit fast 50 % eindeutig überwiegen. Der Anteil der digitalen Bücher ist jedoch mit gut 30 % tatsächlich ebenfalls sehr hoch. Mit größerem Abstand folgen dann erst die digitalen Hörbücher (knapp 13 %) und die analogen Hörbücher (rund 8 %)."
   ]
  },
  {
   "cell_type": "code",
   "execution_count": null,
   "metadata": {},
   "outputs": [],
   "source": []
  },
  {
   "cell_type": "code",
   "execution_count": null,
   "metadata": {},
   "outputs": [],
   "source": []
  }
 ],
 "metadata": {
  "kernelspec": {
   "display_name": "Python 3",
   "language": "python",
   "name": "python3"
  },
  "language_info": {
   "codemirror_mode": {
    "name": "ipython",
    "version": 3
   },
   "file_extension": ".py",
   "mimetype": "text/x-python",
   "name": "python",
   "nbconvert_exporter": "python",
   "pygments_lexer": "ipython3",
   "version": "3.7.6"
  }
 },
 "nbformat": 4,
 "nbformat_minor": 4
}
