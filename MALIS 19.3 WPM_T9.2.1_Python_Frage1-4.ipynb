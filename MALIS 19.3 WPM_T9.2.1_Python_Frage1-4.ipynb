{
 "cells": [
  {
   "cell_type": "markdown",
   "metadata": {},
   "source": [
    "# MALIS 19.3 WPM_T9.2\n",
    "# Datenanalyse der offenen Daten der Seattle Public Library (Checkouts), Teil 1: Frage 1 bis 4\n",
    "Mit fünf verschiedenen Fragen werden die Checkout-Daten analysiert und die Lösungen implementiert. Hierfür werden die Checkout-Daten der Public Library des Jahres 2019 importiert. Für die ersten vier Fragen wird die Datenmenge auf 10.000 Zeilen begrenzt. Bei den sehr hohen Ausleihzahlen der Bibliothek bedeutet diese Einschränkung, dass nicht alle Checkouts des Monats Dezember wiedergegeben werden (s. Teil 2: Frage 5).\n",
    "\n",
    "- Frage 1: Welches Medium wurde im Dezember 2019 am häufigsten ausgeliehen?\n",
    "- Frage 2: Wie hoch ist die durchschnittliche Ausleihe der Public Library im Dezember 2019?\n",
    "- Frage 3: Von welchem creator wurden im Dezember 2019 die meisten Medientitel ausgeliehen?\n",
    "- Frage 4: Wurden im Dezember 2019 mehr digitale oder analoge Bücher und Hörbücher ausgeliehen?"
   ]
  },
  {
   "cell_type": "markdown",
   "metadata": {},
   "source": [
    "### Erster Schritt: Packages importieren"
   ]
  },
  {
   "cell_type": "code",
   "execution_count": 1,
   "metadata": {},
   "outputs": [],
   "source": [
    "import urllib.request\n",
    "import pandas as pd\n",
    "import matplotlib.pyplot as plt"
   ]
  },
  {
   "cell_type": "markdown",
   "metadata": {},
   "source": [
    "### Zweiter Schritt: Checkout-Daten downloaden"
   ]
  },
  {
   "cell_type": "code",
   "execution_count": 2,
   "metadata": {},
   "outputs": [],
   "source": [
    "url = \"https://data.seattle.gov/resource/tmmm-ytt6.csv?$where=checkoutyear=2019&$limit=10000\"\n",
    "spl_file = \"checkouts.csv\""
   ]
  },
  {
   "cell_type": "code",
   "execution_count": 3,
   "metadata": {},
   "outputs": [
    {
     "data": {
      "text/plain": [
       "'checkouts.csv'"
      ]
     },
     "execution_count": 3,
     "metadata": {},
     "output_type": "execute_result"
    }
   ],
   "source": [
    "# Überprüfen\n",
    "spl_file"
   ]
  },
  {
   "cell_type": "code",
   "execution_count": 4,
   "metadata": {},
   "outputs": [
    {
     "data": {
      "text/plain": [
       "'https://data.seattle.gov/resource/tmmm-ytt6.csv?$where=checkoutyear=2019&$limit=10000'"
      ]
     },
     "execution_count": 4,
     "metadata": {},
     "output_type": "execute_result"
    }
   ],
   "source": [
    "# Überprüfen\n",
    "url"
   ]
  },
  {
   "cell_type": "code",
   "execution_count": 5,
   "metadata": {},
   "outputs": [
    {
     "data": {
      "text/plain": [
       "('checkouts.csv', <http.client.HTTPMessage at 0x7eff6ce67950>)"
      ]
     },
     "execution_count": 5,
     "metadata": {},
     "output_type": "execute_result"
    }
   ],
   "source": [
    "urllib.request.urlretrieve(url, spl_file)"
   ]
  },
  {
   "cell_type": "code",
   "execution_count": 6,
   "metadata": {},
   "outputs": [],
   "source": [
    "# Neue Variable erstellen:\n",
    "ausleihen = pd.read_csv(spl_file)"
   ]
  },
  {
   "cell_type": "code",
   "execution_count": 7,
   "metadata": {},
   "outputs": [
    {
     "data": {
      "text/html": [
       "<div>\n",
       "<style scoped>\n",
       "    .dataframe tbody tr th:only-of-type {\n",
       "        vertical-align: middle;\n",
       "    }\n",
       "\n",
       "    .dataframe tbody tr th {\n",
       "        vertical-align: top;\n",
       "    }\n",
       "\n",
       "    .dataframe thead th {\n",
       "        text-align: right;\n",
       "    }\n",
       "</style>\n",
       "<table border=\"1\" class=\"dataframe\">\n",
       "  <thead>\n",
       "    <tr style=\"text-align: right;\">\n",
       "      <th></th>\n",
       "      <th>usageclass</th>\n",
       "      <th>checkouttype</th>\n",
       "      <th>materialtype</th>\n",
       "      <th>checkoutyear</th>\n",
       "      <th>checkoutmonth</th>\n",
       "      <th>checkouts</th>\n",
       "      <th>title</th>\n",
       "      <th>creator</th>\n",
       "      <th>subjects</th>\n",
       "      <th>publisher</th>\n",
       "      <th>publicationyear</th>\n",
       "    </tr>\n",
       "  </thead>\n",
       "  <tbody>\n",
       "    <tr>\n",
       "      <th>0</th>\n",
       "      <td>Digital</td>\n",
       "      <td>OverDrive</td>\n",
       "      <td>AUDIOBOOK</td>\n",
       "      <td>2019</td>\n",
       "      <td>12</td>\n",
       "      <td>2</td>\n",
       "      <td>The Teenage Brain (Enchanced): A Neuroscientis...</td>\n",
       "      <td>Frances E. Jensen</td>\n",
       "      <td>Nonfiction, Psychology</td>\n",
       "      <td>HarperCollins Publishers Inc.</td>\n",
       "      <td>2015</td>\n",
       "    </tr>\n",
       "    <tr>\n",
       "      <th>1</th>\n",
       "      <td>Physical</td>\n",
       "      <td>Horizon</td>\n",
       "      <td>BOOK</td>\n",
       "      <td>2019</td>\n",
       "      <td>12</td>\n",
       "      <td>3</td>\n",
       "      <td>Richard Scarry's Smokey the fireman.</td>\n",
       "      <td>Scarry, Richard</td>\n",
       "      <td>Fire fighters Juvenile fiction, Animals Juveni...</td>\n",
       "      <td>Random House,</td>\n",
       "      <td>2015.</td>\n",
       "    </tr>\n",
       "    <tr>\n",
       "      <th>2</th>\n",
       "      <td>Physical</td>\n",
       "      <td>Horizon</td>\n",
       "      <td>BOOK</td>\n",
       "      <td>2019</td>\n",
       "      <td>12</td>\n",
       "      <td>1</td>\n",
       "      <td>Vernon Subutex : roman. Tome 1 / Virginie Desp...</td>\n",
       "      <td>Despentes, Virginie, 1969-</td>\n",
       "      <td>Music stores France Paris Fiction, Businessmen...</td>\n",
       "      <td>Grasset : Les Éditions Graset &amp; Fasquelle : Li...</td>\n",
       "      <td>janvier 2018.</td>\n",
       "    </tr>\n",
       "    <tr>\n",
       "      <th>3</th>\n",
       "      <td>Physical</td>\n",
       "      <td>Horizon</td>\n",
       "      <td>BOOK</td>\n",
       "      <td>2019</td>\n",
       "      <td>12</td>\n",
       "      <td>1</td>\n",
       "      <td>The lost Gospel of Mary : the Mother of Jesus ...</td>\n",
       "      <td>NaN</td>\n",
       "      <td>Mary Blessed Virgin Saint</td>\n",
       "      <td>Paraclete Press,</td>\n",
       "      <td>[2007]</td>\n",
       "    </tr>\n",
       "    <tr>\n",
       "      <th>4</th>\n",
       "      <td>Digital</td>\n",
       "      <td>OverDrive</td>\n",
       "      <td>EBOOK</td>\n",
       "      <td>2019</td>\n",
       "      <td>12</td>\n",
       "      <td>2</td>\n",
       "      <td>Be Mine Forever: Bennetts Series, Book 3</td>\n",
       "      <td>Kennedy Ryan</td>\n",
       "      <td>Fiction, Literature, Romance</td>\n",
       "      <td>Hachette Digital, Inc.</td>\n",
       "      <td>2015</td>\n",
       "    </tr>\n",
       "    <tr>\n",
       "      <th>...</th>\n",
       "      <td>...</td>\n",
       "      <td>...</td>\n",
       "      <td>...</td>\n",
       "      <td>...</td>\n",
       "      <td>...</td>\n",
       "      <td>...</td>\n",
       "      <td>...</td>\n",
       "      <td>...</td>\n",
       "      <td>...</td>\n",
       "      <td>...</td>\n",
       "      <td>...</td>\n",
       "    </tr>\n",
       "    <tr>\n",
       "      <th>9995</th>\n",
       "      <td>Physical</td>\n",
       "      <td>Horizon</td>\n",
       "      <td>BOOK</td>\n",
       "      <td>2019</td>\n",
       "      <td>12</td>\n",
       "      <td>1</td>\n",
       "      <td>Artemisia Gentileschi : the image of the femal...</td>\n",
       "      <td>Garrard, Mary D.</td>\n",
       "      <td>Gentileschi Artemisia 1593 1652 or 1653 Critic...</td>\n",
       "      <td>Princeton University Press,</td>\n",
       "      <td>[1989]</td>\n",
       "    </tr>\n",
       "    <tr>\n",
       "      <th>9996</th>\n",
       "      <td>Digital</td>\n",
       "      <td>OverDrive</td>\n",
       "      <td>EBOOK</td>\n",
       "      <td>2019</td>\n",
       "      <td>12</td>\n",
       "      <td>1</td>\n",
       "      <td>Birth of an Empire: Genghis Series, Book 1</td>\n",
       "      <td>Conn Iggulden</td>\n",
       "      <td>Fiction, Historical Fiction</td>\n",
       "      <td>Random House, Inc.</td>\n",
       "      <td>2010</td>\n",
       "    </tr>\n",
       "    <tr>\n",
       "      <th>9997</th>\n",
       "      <td>Digital</td>\n",
       "      <td>OverDrive</td>\n",
       "      <td>EBOOK</td>\n",
       "      <td>2019</td>\n",
       "      <td>12</td>\n",
       "      <td>1</td>\n",
       "      <td>An Affair Without End: Willowmere Series, Book 3</td>\n",
       "      <td>Candace Camp</td>\n",
       "      <td>Fiction, Historical Fiction, Romance</td>\n",
       "      <td>Simon &amp; Schuster, Inc.</td>\n",
       "      <td>2014</td>\n",
       "    </tr>\n",
       "    <tr>\n",
       "      <th>9998</th>\n",
       "      <td>Physical</td>\n",
       "      <td>Horizon</td>\n",
       "      <td>BOOK</td>\n",
       "      <td>2019</td>\n",
       "      <td>12</td>\n",
       "      <td>1</td>\n",
       "      <td>The vine basket / Josanne La Valley.</td>\n",
       "      <td>La Valley, Josanne</td>\n",
       "      <td>Basket making Juvenile fiction, Fathers and da...</td>\n",
       "      <td>Clarion Books, Houghton Mifflin Harcourt,</td>\n",
       "      <td>[2013]</td>\n",
       "    </tr>\n",
       "    <tr>\n",
       "      <th>9999</th>\n",
       "      <td>Physical</td>\n",
       "      <td>Horizon</td>\n",
       "      <td>VIDEODISC</td>\n",
       "      <td>2019</td>\n",
       "      <td>12</td>\n",
       "      <td>1</td>\n",
       "      <td>Gleason / Amazon Studios ; in association with...</td>\n",
       "      <td>NaN</td>\n",
       "      <td>Gleason Steve 1977, Football players Biography...</td>\n",
       "      <td>Sony Pictures Home Entertainment,</td>\n",
       "      <td>c2016.</td>\n",
       "    </tr>\n",
       "  </tbody>\n",
       "</table>\n",
       "<p>10000 rows × 11 columns</p>\n",
       "</div>"
      ],
      "text/plain": [
       "     usageclass checkouttype materialtype  checkoutyear  checkoutmonth  \\\n",
       "0       Digital    OverDrive    AUDIOBOOK          2019             12   \n",
       "1      Physical      Horizon         BOOK          2019             12   \n",
       "2      Physical      Horizon         BOOK          2019             12   \n",
       "3      Physical      Horizon         BOOK          2019             12   \n",
       "4       Digital    OverDrive        EBOOK          2019             12   \n",
       "...         ...          ...          ...           ...            ...   \n",
       "9995   Physical      Horizon         BOOK          2019             12   \n",
       "9996    Digital    OverDrive        EBOOK          2019             12   \n",
       "9997    Digital    OverDrive        EBOOK          2019             12   \n",
       "9998   Physical      Horizon         BOOK          2019             12   \n",
       "9999   Physical      Horizon    VIDEODISC          2019             12   \n",
       "\n",
       "      checkouts                                              title  \\\n",
       "0             2  The Teenage Brain (Enchanced): A Neuroscientis...   \n",
       "1             3               Richard Scarry's Smokey the fireman.   \n",
       "2             1  Vernon Subutex : roman. Tome 1 / Virginie Desp...   \n",
       "3             1  The lost Gospel of Mary : the Mother of Jesus ...   \n",
       "4             2           Be Mine Forever: Bennetts Series, Book 3   \n",
       "...         ...                                                ...   \n",
       "9995          1  Artemisia Gentileschi : the image of the femal...   \n",
       "9996          1         Birth of an Empire: Genghis Series, Book 1   \n",
       "9997          1   An Affair Without End: Willowmere Series, Book 3   \n",
       "9998          1               The vine basket / Josanne La Valley.   \n",
       "9999          1  Gleason / Amazon Studios ; in association with...   \n",
       "\n",
       "                         creator  \\\n",
       "0              Frances E. Jensen   \n",
       "1                Scarry, Richard   \n",
       "2     Despentes, Virginie, 1969-   \n",
       "3                            NaN   \n",
       "4                   Kennedy Ryan   \n",
       "...                          ...   \n",
       "9995            Garrard, Mary D.   \n",
       "9996               Conn Iggulden   \n",
       "9997                Candace Camp   \n",
       "9998          La Valley, Josanne   \n",
       "9999                         NaN   \n",
       "\n",
       "                                               subjects  \\\n",
       "0                                Nonfiction, Psychology   \n",
       "1     Fire fighters Juvenile fiction, Animals Juveni...   \n",
       "2     Music stores France Paris Fiction, Businessmen...   \n",
       "3                             Mary Blessed Virgin Saint   \n",
       "4                          Fiction, Literature, Romance   \n",
       "...                                                 ...   \n",
       "9995  Gentileschi Artemisia 1593 1652 or 1653 Critic...   \n",
       "9996                        Fiction, Historical Fiction   \n",
       "9997               Fiction, Historical Fiction, Romance   \n",
       "9998  Basket making Juvenile fiction, Fathers and da...   \n",
       "9999  Gleason Steve 1977, Football players Biography...   \n",
       "\n",
       "                                              publisher publicationyear  \n",
       "0                         HarperCollins Publishers Inc.            2015  \n",
       "1                                         Random House,           2015.  \n",
       "2     Grasset : Les Éditions Graset & Fasquelle : Li...   janvier 2018.  \n",
       "3                                      Paraclete Press,          [2007]  \n",
       "4                                Hachette Digital, Inc.            2015  \n",
       "...                                                 ...             ...  \n",
       "9995                        Princeton University Press,          [1989]  \n",
       "9996                                 Random House, Inc.            2010  \n",
       "9997                             Simon & Schuster, Inc.            2014  \n",
       "9998          Clarion Books, Houghton Mifflin Harcourt,          [2013]  \n",
       "9999                  Sony Pictures Home Entertainment,          c2016.  \n",
       "\n",
       "[10000 rows x 11 columns]"
      ]
     },
     "execution_count": 7,
     "metadata": {},
     "output_type": "execute_result"
    }
   ],
   "source": [
    "ausleihen"
   ]
  },
  {
   "cell_type": "markdown",
   "metadata": {},
   "source": [
    "## 1. Frage: Welches Medium wurde im Dezember 2019 am häufigsten ausgeliehen?"
   ]
  },
  {
   "cell_type": "code",
   "execution_count": 8,
   "metadata": {},
   "outputs": [
    {
     "data": {
      "text/plain": [
       "usageclass         object\n",
       "checkouttype       object\n",
       "materialtype       object\n",
       "checkoutyear        int64\n",
       "checkoutmonth       int64\n",
       "checkouts           int64\n",
       "title              object\n",
       "creator            object\n",
       "subjects           object\n",
       "publisher          object\n",
       "publicationyear    object\n",
       "dtype: object"
      ]
     },
     "execution_count": 8,
     "metadata": {},
     "output_type": "execute_result"
    }
   ],
   "source": [
    "# Bevor ich beginne: welche Datentypen enthält der Datensatz?\n",
    "ausleihen.dtypes"
   ]
  },
  {
   "cell_type": "code",
   "execution_count": 9,
   "metadata": {},
   "outputs": [
    {
     "data": {
      "text/plain": [
       "560"
      ]
     },
     "execution_count": 9,
     "metadata": {},
     "output_type": "execute_result"
    }
   ],
   "source": [
    "# Wie lautet die Zahl der höchsten Ausleihe? Spalte: checkouts, Datentyp: integer\n",
    "ausleihen.checkouts.max()"
   ]
  },
  {
   "cell_type": "code",
   "execution_count": 10,
   "metadata": {},
   "outputs": [],
   "source": [
    "# Nun wird es spannend: Welches Medium hatte 560 Ausleihen? Gesucht wird die Zeile:\n",
    "checkmax = ausleihen.checkouts.max()"
   ]
  },
  {
   "cell_type": "code",
   "execution_count": 11,
   "metadata": {},
   "outputs": [
    {
     "data": {
      "text/plain": [
       "560"
      ]
     },
     "execution_count": 11,
     "metadata": {},
     "output_type": "execute_result"
    }
   ],
   "source": [
    "# Zum Überprüfen:\n",
    "checkmax"
   ]
  },
  {
   "cell_type": "code",
   "execution_count": 12,
   "metadata": {},
   "outputs": [
    {
     "data": {
      "text/html": [
       "<div>\n",
       "<style scoped>\n",
       "    .dataframe tbody tr th:only-of-type {\n",
       "        vertical-align: middle;\n",
       "    }\n",
       "\n",
       "    .dataframe tbody tr th {\n",
       "        vertical-align: top;\n",
       "    }\n",
       "\n",
       "    .dataframe thead th {\n",
       "        text-align: right;\n",
       "    }\n",
       "</style>\n",
       "<table border=\"1\" class=\"dataframe\">\n",
       "  <thead>\n",
       "    <tr style=\"text-align: right;\">\n",
       "      <th></th>\n",
       "      <th>usageclass</th>\n",
       "      <th>checkouttype</th>\n",
       "      <th>materialtype</th>\n",
       "      <th>checkoutyear</th>\n",
       "      <th>checkoutmonth</th>\n",
       "      <th>checkouts</th>\n",
       "      <th>title</th>\n",
       "      <th>creator</th>\n",
       "      <th>subjects</th>\n",
       "      <th>publisher</th>\n",
       "      <th>publicationyear</th>\n",
       "    </tr>\n",
       "  </thead>\n",
       "  <tbody>\n",
       "    <tr>\n",
       "      <th>7134</th>\n",
       "      <td>Physical</td>\n",
       "      <td>Horizon</td>\n",
       "      <td>BOOK</td>\n",
       "      <td>2019</td>\n",
       "      <td>12</td>\n",
       "      <td>560</td>\n",
       "      <td>The testaments / Margaret Atwood.</td>\n",
       "      <td>Atwood, Margaret, 1939-</td>\n",
       "      <td>Surrogate mothers Fiction, Man woman relations...</td>\n",
       "      <td>Nan A. Talese/Doubleday,</td>\n",
       "      <td>[2019]</td>\n",
       "    </tr>\n",
       "  </tbody>\n",
       "</table>\n",
       "</div>"
      ],
      "text/plain": [
       "     usageclass checkouttype materialtype  checkoutyear  checkoutmonth  \\\n",
       "7134   Physical      Horizon         BOOK          2019             12   \n",
       "\n",
       "      checkouts                              title                  creator  \\\n",
       "7134        560  The testaments / Margaret Atwood.  Atwood, Margaret, 1939-   \n",
       "\n",
       "                                               subjects  \\\n",
       "7134  Surrogate mothers Fiction, Man woman relations...   \n",
       "\n",
       "                     publisher publicationyear  \n",
       "7134  Nan A. Talese/Doubleday,          [2019]  "
      ]
     },
     "execution_count": 12,
     "metadata": {},
     "output_type": "execute_result"
    }
   ],
   "source": [
    "# Anzeigen der Zeile und somit des Mediums mit der höchsten Anzahl an Ausleihen\n",
    "ausleihen[ausleihen.checkouts >= checkmax]"
   ]
  },
  {
   "cell_type": "markdown",
   "metadata": {},
   "source": [
    "## Antwort auf die 1. Frage: Das analoge Buch \"The testaments\" von Margaret Atwood wurde am häufigsten ausgeliehen."
   ]
  },
  {
   "cell_type": "markdown",
   "metadata": {},
   "source": [
    "## 2. Frage: Wie hoch ist die durchschnittliche Ausleihe der Public Library im Dezember 2019?\n",
    "Der im Dezember am häufigsten ausgeliehene Titel hat mit 560 Checkouts eine erstaunlich hohe Zahl. Es stellt sich die Frage, ob alle Medien der Stadtbibliothek in diesem Monat hohe Ausleihen hatten oder ob der Bestseller-Titel von Margaret Atwood ein sog. Ausreißer ist."
   ]
  },
  {
   "cell_type": "code",
   "execution_count": 13,
   "metadata": {},
   "outputs": [
    {
     "data": {
      "text/plain": [
       "3.652"
      ]
     },
     "execution_count": 13,
     "metadata": {},
     "output_type": "execute_result"
    }
   ],
   "source": [
    "# Wie hoch war die durchschnittliche Ausleihe?\n",
    "ausleihen.checkouts.mean()"
   ]
  },
  {
   "cell_type": "markdown",
   "metadata": {},
   "source": [
    "## Antwort auf die 2. Frage: Die Zahl der durchschnittlichen Ausleihe betrug im Dezember 3,652."
   ]
  },
  {
   "cell_type": "code",
   "execution_count": 14,
   "metadata": {},
   "outputs": [
    {
     "data": {
      "text/plain": [
       "1"
      ]
     },
     "execution_count": 14,
     "metadata": {},
     "output_type": "execute_result"
    }
   ],
   "source": [
    "# Und wie hoch war die geringste Ausleihe?\n",
    "ausleihen.checkouts.min()"
   ]
  },
  {
   "cell_type": "code",
   "execution_count": 15,
   "metadata": {},
   "outputs": [
    {
     "data": {
      "text/plain": [
       "2.0"
      ]
     },
     "execution_count": 15,
     "metadata": {},
     "output_type": "execute_result"
    }
   ],
   "source": [
    "# Der Median wird nun wahrscheinlich zeigen, dass der Maximalwert 560 ein absoluter Ausreißer ist:\n",
    "ausleihen.checkouts.median()"
   ]
  },
  {
   "cell_type": "code",
   "execution_count": 16,
   "metadata": {},
   "outputs": [
    {
     "data": {
      "text/plain": [
       "<matplotlib.axes._subplots.AxesSubplot at 0x7eff6d6cf250>"
      ]
     },
     "execution_count": 16,
     "metadata": {},
     "output_type": "execute_result"
    },
    {
     "data": {
      "image/png": "[encoded data removed]",
      "text/plain": [
       "<Figure size 432x288 with 1 Axes>"
      ]
     },
     "metadata": {
      "needs_background": "light"
     },
     "output_type": "display_data"
    }
   ],
   "source": [
    "# Anzeigen aller Ausleihzahlen mit einem Historgramm (.hist):\n",
    "ausleihen[\"checkouts\"].hist()\n",
    "# Warum zeigt das Histogramm nur einen Balken an??"
   ]
  },
  {
   "cell_type": "code",
   "execution_count": 17,
   "metadata": {
    "scrolled": true
   },
   "outputs": [
    {
     "data": {
      "text/plain": [
       "<matplotlib.axes._subplots.AxesSubplot at 0x7eff6bad5a10>"
      ]
     },
     "execution_count": 17,
     "metadata": {},
     "output_type": "execute_result"
    },
    {
     "data": {
      "image/png": "[encoded data removed]",
      "text/plain": [
       "<Figure size 432x288 with 1 Axes>"
      ]
     },
     "metadata": {
      "needs_background": "light"
     },
     "output_type": "display_data"
    }
   ],
   "source": [
    "# Mit feinerer Auflösung plotten:\n",
    "ausleihen[\"checkouts\"].hist(bins=100)\n",
    "# Doch richtig gemacht! Nun erkenne ich auch die schmale Linie rechts neben dem Balken im 1. Histogramm."
   ]
  },
  {
   "cell_type": "code",
   "execution_count": 18,
   "metadata": {},
   "outputs": [
    {
     "data": {
      "image/png": "[encoded data removed]",
      "text/plain": [
       "<Figure size 432x288 with 1 Axes>"
      ]
     },
     "metadata": {
      "needs_background": "light"
     },
     "output_type": "display_data"
    }
   ],
   "source": [
    "# Jetzt füge ich noch einen Titel hinzu:\n",
    "ausleihen[\"checkouts\"].hist(bins=100)\n",
    "plt.title('Anzahl der Ausleihen im Dezember 2019')\n",
    "plt.show()"
   ]
  },
  {
   "cell_type": "markdown",
   "metadata": {},
   "source": [
    "## Fazit aus Frage 1 + 2:\n",
    "Die durchschnittlichen Ausleihzahlen von Dezember 2019 entsprechen mit 3 - 4 Ausleihen (Mittelwert) bzw. 2 Ausleihen (Median) pro Titel den üblichen Zahlen einer öffentlichen Bibliothek. Es wäre interessant nachzuforschen, wieso der Buchtitel \"The testaments\" von Atwood eine so hohe Ausleihzahl hatte oder ob es sich um einen Eingabefehler handelt."
   ]
  },
  {
   "cell_type": "markdown",
   "metadata": {},
   "source": [
    "## 3. Frage: Von welchem creator wurden im Dezember 2019 die meisten Medientitel ausgeliehen?\n",
    "Gesucht wird der beliebteste creator (= Schöpfer oder Schöpferin von Werken wie Büchern oder Filmen), von dem am meisten Titel ausgeliehen wurden. Es wird nicht nach dem creator mit den meisten Ausleihen gefragt!"
   ]
  },
  {
   "cell_type": "code",
   "execution_count": 19,
   "metadata": {},
   "outputs": [
    {
     "data": {
      "text/plain": [
       "Patterson, James, 1947-          20\n",
       "James Patterson                  18\n",
       "Nora Roberts                     13\n",
       "M. C. Beaton                     12\n",
       "Agatha Christie                  10\n",
       "                                 ..\n",
       "Hobbs, Allison                    1\n",
       "Bell, Ted                         1\n",
       "Mendelssohn, Moses, 1729-1786     1\n",
       "Tremayne, Marie                   1\n",
       "Lovitz, Dara                      1\n",
       "Name: creator, Length: 7354, dtype: int64"
      ]
     },
     "execution_count": 19,
     "metadata": {},
     "output_type": "execute_result"
    }
   ],
   "source": [
    "# Ich lasse mir die ersten und die letzten creator anzeigen:\n",
    "ausleihen.creator.value_counts()"
   ]
  },
  {
   "cell_type": "markdown",
   "metadata": {},
   "source": [
    "## Antwort auf die 3. Frage: Das Ergebnis ist eindeutig - James Patterson war mit insgesamt 38 entliehenen Medientiteln der mit Abstand beliebteste creator im Dezember 2019.\n",
    "\n",
    "### Wieso tauchen aber zwei unterschiedliche Schreibweisen des Autors auf? Aus meiner Erfahrung könnte die erste Schreibweise (\"Patterson, James, 1947-\") auf den Metadaten der analogen Medien und die 2. Schreibweise (\"James Patterson\") auf den Metadaten der digitalen Medien beruhen."
   ]
  },
  {
   "cell_type": "code",
   "execution_count": 20,
   "metadata": {},
   "outputs": [
    {
     "data": {
      "text/plain": [
       "Patterson, James, 1947-                 20\n",
       "Seuss, Dr.                               9\n",
       "Warner, Gertrude Chandler, 1890-1979     8\n",
       "Keene, Carolyn                           7\n",
       "Rylant, Cynthia                          7\n",
       "                                        ..\n",
       "Duffy, Carol Ann                         1\n",
       "Toutonghi, Steve, 1964-                  1\n",
       "Sawyer, Robert J.                        1\n",
       "Denise, Anika                            1\n",
       "Lovitz, Dara                             1\n",
       "Name: creator, Length: 4345, dtype: int64"
      ]
     },
     "execution_count": 20,
     "metadata": {},
     "output_type": "execute_result"
    }
   ],
   "source": [
    "# Ich lasse mir die ersten und die letzten fünf creators der analogen Medien (Usageclass: 'Physical') anzeigen:\n",
    "ausleihen[ausleihen.usageclass == 'Physical'].creator.value_counts()"
   ]
  },
  {
   "cell_type": "code",
   "execution_count": 21,
   "metadata": {
    "scrolled": true
   },
   "outputs": [
    {
     "data": {
      "text/plain": [
       "James Patterson        18\n",
       "Nora Roberts           13\n",
       "M. C. Beaton           12\n",
       "Stephen King           10\n",
       "Agatha Christie        10\n",
       "                       ..\n",
       "Patrick M. Lencioni     1\n",
       "David Cone              1\n",
       "Ian C. Esslemont        1\n",
       "Kate Allure             1\n",
       "Bryan Doerries          1\n",
       "Name: creator, Length: 3010, dtype: int64"
      ]
     },
     "execution_count": 21,
     "metadata": {},
     "output_type": "execute_result"
    }
   ],
   "source": [
    "# Und die ersten und letzten fünf creators der digitalen Medien (Usageclass: 'Digital'):\n",
    "ausleihen[ausleihen.usageclass == 'Digital'].creator.value_counts()"
   ]
  },
  {
   "cell_type": "markdown",
   "metadata": {},
   "source": [
    "### Ergebnis: Meine Vermutung hat sich bestätigt, \"James Patterson\" sind die 18 digitalen und \"Patterson, James, 1947-\" die 20 analogen Medien."
   ]
  },
  {
   "cell_type": "markdown",
   "metadata": {},
   "source": [
    "## 4. Frage: Wurden im Dezember 2019 mehr digitale oder analoge Bücher und Hörbücher ausgeliehen?\n",
    "In der Stadtbücherei Münster können die Kunden durch den Bibliotheksverbund muensterload.de immer mehr digitale Medien ausleihen, hier hauptsächlich eBooks und eAudios. Es überwiegen aber immer noch die analogen Bücher und Hörbücher. Wie sah dieses Verhältnis in der Seattle Public Library im Dezember 2019 aus?"
   ]
  },
  {
   "cell_type": "code",
   "execution_count": 22,
   "metadata": {},
   "outputs": [
    {
     "data": {
      "text/plain": [
       "BOOK                              4416\n",
       "EBOOK                             2749\n",
       "AUDIOBOOK                         1133\n",
       "VIDEODISC                          883\n",
       "SOUNDDISC                          746\n",
       "REGPRINT                            23\n",
       "MUSIC                               15\n",
       "VIDEO                                9\n",
       "SOUNDDISC, VIDEODISC                 9\n",
       "ER                                   4\n",
       "LARGEPRINT                           4\n",
       "ER, SOUNDDISC                        3\n",
       "VISUAL                               1\n",
       "MUSICSNDREC                          1\n",
       "ATLAS                                1\n",
       "CR                                   1\n",
       "SOUNDREC                             1\n",
       "SOUNDCASS, SOUNDDISC, SOUNDREC       1\n",
       "Name: materialtype, dtype: int64"
      ]
     },
     "execution_count": 22,
     "metadata": {},
     "output_type": "execute_result"
    }
   ],
   "source": [
    "# Welche Medientypen (\"materialtype\") gibt es überhaupt und wie viele jeweils (\"value_counts\"):\n",
    "ausleihen.materialtype.value_counts()"
   ]
  },
  {
   "cell_type": "markdown",
   "metadata": {},
   "source": [
    "### Zwischenfazit: In der Ausleihe überwiegen mit 4416 Titeln eindeutig die analogen Bücher (BOOKS) gegenüber den 2749 digitalen Büchern (EBOOK). Bei den Hörbüchern ist es andersherum: die digitalen Hörbücher (AUDIOBOOK) sind mit 1133 Titeln wesentlich häufiger vertreten als die analogen Hörbücher (SOUNDDISC) mit 746 Titeln."
   ]
  },
  {
   "cell_type": "code",
   "execution_count": 23,
   "metadata": {},
   "outputs": [
    {
     "data": {
      "text/plain": [
       "usageclass         object\n",
       "checkouttype       object\n",
       "materialtype       object\n",
       "checkoutyear        int64\n",
       "checkoutmonth       int64\n",
       "checkouts           int64\n",
       "title              object\n",
       "creator            object\n",
       "subjects           object\n",
       "publisher          object\n",
       "publicationyear    object\n",
       "dtype: object"
      ]
     },
     "execution_count": 23,
     "metadata": {},
     "output_type": "execute_result"
    }
   ],
   "source": [
    "# Zur Erinnerung: welcher Datentyp ist materialtype?\n",
    "ausleihen.dtypes"
   ]
  },
  {
   "cell_type": "markdown",
   "metadata": {},
   "source": [
    "### Zur besseren Veranschaulichung der vier Medientypen: Umsetzung der Verteilung von Books und Ebooks sowie Sounddiscs und Audiobooks in einem Kuchendiagramm mit Prozentzahlen"
   ]
  },
  {
   "cell_type": "code",
   "execution_count": 24,
   "metadata": {
    "scrolled": true
   },
   "outputs": [
    {
     "data": {
      "image/png": "[encoded data removed]",
      "text/plain": [
       "<Figure size 432x288 with 1 Axes>"
      ]
     },
     "metadata": {},
     "output_type": "display_data"
    }
   ],
   "source": [
    "# Alle vier gewünschten Materialtypen als Variablen mit \"loc\" herausfiltern und mit \"count()[0]\" zählen:\n",
    "BOOK = ausleihen.loc[ausleihen['materialtype'] == 'BOOK'].count()[0]\n",
    "EBOOK = ausleihen.loc[ausleihen['materialtype'] == 'EBOOK'].count()[0]\n",
    "AUDIOBOOK = ausleihen.loc[ausleihen['materialtype'] == 'AUDIOBOOK'].count()[0]\n",
    "SOUNDDISC = ausleihen.loc[ausleihen['materialtype'] == 'SOUNDDISC'].count()[0]\n",
    "\n",
    "# Beschriftung (\"labels\") und Farben (\"colors\") festlegen:\n",
    "labels = ['BOOK', 'EBOOK', 'AUDIOBOOK', 'SOUNDDISC']\n",
    "colors = ['yellow', 'green', 'violet', 'pink']\n",
    "\n",
    "# Mit \"plt.pie\" festlegen, welche Materialtypen ich plotten will, Prozentangabe hinzufügen und Diagramm betiteln:\n",
    "plt.pie([BOOK, EBOOK, AUDIOBOOK, SOUNDDISC], labels = labels, colors=colors, autopct='%.2f %%')\n",
    "plt.title('Distribution of materialtypes: Books and Ebooks, Sounddiscs and Audiobooks')\n",
    "plt.show()"
   ]
  },
  {
   "cell_type": "markdown",
   "metadata": {},
   "source": [
    "## Antwort auf die 4. Frage: Das Kuchendiagramm zeigt anschaulich, dass in der Seattle Public Library im Dezember 2019  die analogen Bücher mit fast 50 % eindeutig überwiegen. Der Anteil der digitalen Bücher ist jedoch mit gut 30 % ebenfalls sehr hoch. Mit größerem Abstand folgen dann erst die digitalen Hörbücher (knapp 13 %) und die analogen Hörbücher (rund 8 %)."
   ]
  }
 ],
 "metadata": {
  "kernelspec": {
   "display_name": "Python 3",
   "language": "python",
   "name": "python3"
  },
  "language_info": {
   "codemirror_mode": {
    "name": "ipython",
    "version": 3
   },
   "file_extension": ".py",
   "mimetype": "text/x-python",
   "name": "python",
   "nbconvert_exporter": "python",
   "pygments_lexer": "ipython3",
   "version": "3.7.6"
  }
 },
 "nbformat": 4,
 "nbformat_minor": 4
}
